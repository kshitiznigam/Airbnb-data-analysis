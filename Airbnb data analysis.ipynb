{
 "cells": [
  {
   "cell_type": "code",
   "execution_count": 1,
   "metadata": {},
   "outputs": [],
   "source": [
    "# import python libraries\n",
    "import numpy as np \n",
    "import pandas as pd\n",
    "import matplotlib.pyplot as plt\n",
    "%matplotlib inline\n",
    "import seaborn as sns"
   ]
  },
  {
   "cell_type": "code",
   "execution_count": 2,
   "metadata": {},
   "outputs": [
    {
     "data": {
      "text/html": [
       "<div>\n",
       "<style scoped>\n",
       "    .dataframe tbody tr th:only-of-type {\n",
       "        vertical-align: middle;\n",
       "    }\n",
       "\n",
       "    .dataframe tbody tr th {\n",
       "        vertical-align: top;\n",
       "    }\n",
       "\n",
       "    .dataframe thead th {\n",
       "        text-align: right;\n",
       "    }\n",
       "</style>\n",
       "<table border=\"1\" class=\"dataframe\">\n",
       "  <thead>\n",
       "    <tr style=\"text-align: right;\">\n",
       "      <th></th>\n",
       "      <th>room_id</th>\n",
       "      <th>survey_id</th>\n",
       "      <th>host_id</th>\n",
       "      <th>room_type</th>\n",
       "      <th>country</th>\n",
       "      <th>city</th>\n",
       "      <th>borough</th>\n",
       "      <th>neighborhood</th>\n",
       "      <th>reviews</th>\n",
       "      <th>overall_satisfaction</th>\n",
       "      <th>accommodates</th>\n",
       "      <th>bedrooms</th>\n",
       "      <th>bathrooms</th>\n",
       "      <th>price</th>\n",
       "      <th>minstay</th>\n",
       "      <th>name</th>\n",
       "      <th>last_modified</th>\n",
       "      <th>latitude</th>\n",
       "      <th>longitude</th>\n",
       "      <th>location</th>\n",
       "    </tr>\n",
       "  </thead>\n",
       "  <tbody>\n",
       "    <tr>\n",
       "      <th>0</th>\n",
       "      <td>10176931</td>\n",
       "      <td>1476</td>\n",
       "      <td>49180562</td>\n",
       "      <td>Shared room</td>\n",
       "      <td>NaN</td>\n",
       "      <td>Amsterdam</td>\n",
       "      <td>NaN</td>\n",
       "      <td>De Pijp / Rivierenbuurt</td>\n",
       "      <td>7</td>\n",
       "      <td>4.5</td>\n",
       "      <td>2</td>\n",
       "      <td>1</td>\n",
       "      <td>NaN</td>\n",
       "      <td>156</td>\n",
       "      <td>NaN</td>\n",
       "      <td>Red Light/ Canal view apartment (Shared)</td>\n",
       "      <td>2017-07-23 13:06:27.392</td>\n",
       "      <td>52.356209</td>\n",
       "      <td>4.887491</td>\n",
       "      <td>0101000020E610000033FAD170CA8C13403BC5AA41982D...</td>\n",
       "    </tr>\n",
       "    <tr>\n",
       "      <th>1</th>\n",
       "      <td>8935871</td>\n",
       "      <td>1476</td>\n",
       "      <td>46718394</td>\n",
       "      <td>Shared room</td>\n",
       "      <td>NaN</td>\n",
       "      <td>Amsterdam</td>\n",
       "      <td>NaN</td>\n",
       "      <td>Centrum West</td>\n",
       "      <td>45</td>\n",
       "      <td>4.5</td>\n",
       "      <td>4</td>\n",
       "      <td>1</td>\n",
       "      <td>NaN</td>\n",
       "      <td>126</td>\n",
       "      <td>NaN</td>\n",
       "      <td>Sunny and Cozy Living room in quite neighbours</td>\n",
       "      <td>2017-07-23 13:06:23.607</td>\n",
       "      <td>52.378518</td>\n",
       "      <td>4.896120</td>\n",
       "      <td>0101000020E6100000842A357BA095134042791F477330...</td>\n",
       "    </tr>\n",
       "    <tr>\n",
       "      <th>2</th>\n",
       "      <td>14011697</td>\n",
       "      <td>1476</td>\n",
       "      <td>10346595</td>\n",
       "      <td>Shared room</td>\n",
       "      <td>NaN</td>\n",
       "      <td>Amsterdam</td>\n",
       "      <td>NaN</td>\n",
       "      <td>Watergraafsmeer</td>\n",
       "      <td>1</td>\n",
       "      <td>0.0</td>\n",
       "      <td>3</td>\n",
       "      <td>1</td>\n",
       "      <td>NaN</td>\n",
       "      <td>132</td>\n",
       "      <td>NaN</td>\n",
       "      <td>Amsterdam</td>\n",
       "      <td>2017-07-23 13:06:23.604</td>\n",
       "      <td>52.338811</td>\n",
       "      <td>4.943592</td>\n",
       "      <td>0101000020E6100000A51133FB3CC613403543AA285E2B...</td>\n",
       "    </tr>\n",
       "    <tr>\n",
       "      <th>3</th>\n",
       "      <td>6137978</td>\n",
       "      <td>1476</td>\n",
       "      <td>8685430</td>\n",
       "      <td>Shared room</td>\n",
       "      <td>NaN</td>\n",
       "      <td>Amsterdam</td>\n",
       "      <td>NaN</td>\n",
       "      <td>Centrum West</td>\n",
       "      <td>7</td>\n",
       "      <td>5.0</td>\n",
       "      <td>4</td>\n",
       "      <td>1</td>\n",
       "      <td>NaN</td>\n",
       "      <td>121</td>\n",
       "      <td>NaN</td>\n",
       "      <td>Canal boat RIDE in Amsterdam</td>\n",
       "      <td>2017-07-23 13:06:22.690</td>\n",
       "      <td>52.376319</td>\n",
       "      <td>4.890028</td>\n",
       "      <td>0101000020E6100000DF180280638F134085EE92382B30...</td>\n",
       "    </tr>\n",
       "    <tr>\n",
       "      <th>4</th>\n",
       "      <td>18630616</td>\n",
       "      <td>1476</td>\n",
       "      <td>70191803</td>\n",
       "      <td>Shared room</td>\n",
       "      <td>NaN</td>\n",
       "      <td>Amsterdam</td>\n",
       "      <td>NaN</td>\n",
       "      <td>De Baarsjes / Oud West</td>\n",
       "      <td>1</td>\n",
       "      <td>0.0</td>\n",
       "      <td>2</td>\n",
       "      <td>1</td>\n",
       "      <td>NaN</td>\n",
       "      <td>93</td>\n",
       "      <td>NaN</td>\n",
       "      <td>One room for rent in a three room appartment</td>\n",
       "      <td>2017-07-23 13:06:19.681</td>\n",
       "      <td>52.370384</td>\n",
       "      <td>4.852873</td>\n",
       "      <td>0101000020E6100000CD902A8A57691340187B2FBE682F...</td>\n",
       "    </tr>\n",
       "  </tbody>\n",
       "</table>\n",
       "</div>"
      ],
      "text/plain": [
       "    room_id  survey_id   host_id    room_type  country       city  borough  \\\n",
       "0  10176931       1476  49180562  Shared room      NaN  Amsterdam      NaN   \n",
       "1   8935871       1476  46718394  Shared room      NaN  Amsterdam      NaN   \n",
       "2  14011697       1476  10346595  Shared room      NaN  Amsterdam      NaN   \n",
       "3   6137978       1476   8685430  Shared room      NaN  Amsterdam      NaN   \n",
       "4  18630616       1476  70191803  Shared room      NaN  Amsterdam      NaN   \n",
       "\n",
       "              neighborhood  reviews  overall_satisfaction  accommodates  \\\n",
       "0  De Pijp / Rivierenbuurt        7                   4.5             2   \n",
       "1             Centrum West       45                   4.5             4   \n",
       "2          Watergraafsmeer        1                   0.0             3   \n",
       "3             Centrum West        7                   5.0             4   \n",
       "4   De Baarsjes / Oud West        1                   0.0             2   \n",
       "\n",
       "   bedrooms  bathrooms  price  minstay  \\\n",
       "0         1        NaN    156      NaN   \n",
       "1         1        NaN    126      NaN   \n",
       "2         1        NaN    132      NaN   \n",
       "3         1        NaN    121      NaN   \n",
       "4         1        NaN     93      NaN   \n",
       "\n",
       "                                             name           last_modified  \\\n",
       "0        Red Light/ Canal view apartment (Shared) 2017-07-23 13:06:27.392   \n",
       "1  Sunny and Cozy Living room in quite neighbours 2017-07-23 13:06:23.607   \n",
       "2                                       Amsterdam 2017-07-23 13:06:23.604   \n",
       "3                    Canal boat RIDE in Amsterdam 2017-07-23 13:06:22.690   \n",
       "4    One room for rent in a three room appartment 2017-07-23 13:06:19.681   \n",
       "\n",
       "    latitude  longitude                                           location  \n",
       "0  52.356209   4.887491  0101000020E610000033FAD170CA8C13403BC5AA41982D...  \n",
       "1  52.378518   4.896120  0101000020E6100000842A357BA095134042791F477330...  \n",
       "2  52.338811   4.943592  0101000020E6100000A51133FB3CC613403543AA285E2B...  \n",
       "3  52.376319   4.890028  0101000020E6100000DF180280638F134085EE92382B30...  \n",
       "4  52.370384   4.852873  0101000020E6100000CD902A8A57691340187B2FBE682F...  "
      ]
     },
     "execution_count": 2,
     "metadata": {},
     "output_type": "execute_result"
    }
   ],
   "source": [
    "df1 = pd.read_excel(\"Data/airbnb prices1.xlsx\")\n",
    "df1.head()"
   ]
  },
  {
   "cell_type": "code",
   "execution_count": 3,
   "metadata": {},
   "outputs": [
    {
     "name": "stdout",
     "output_type": "stream",
     "text": [
      "<class 'pandas.core.frame.DataFrame'>\n",
      "RangeIndex: 18723 entries, 0 to 18722\n",
      "Data columns (total 20 columns):\n",
      " #   Column                Non-Null Count  Dtype         \n",
      "---  ------                --------------  -----         \n",
      " 0   room_id               18723 non-null  int64         \n",
      " 1   survey_id             18723 non-null  int64         \n",
      " 2   host_id               18723 non-null  int64         \n",
      " 3   room_type             18723 non-null  object        \n",
      " 4   country               0 non-null      float64       \n",
      " 5   city                  18723 non-null  object        \n",
      " 6   borough               0 non-null      float64       \n",
      " 7   neighborhood          18723 non-null  object        \n",
      " 8   reviews               18723 non-null  int64         \n",
      " 9   overall_satisfaction  18723 non-null  float64       \n",
      " 10  accommodates          18723 non-null  int64         \n",
      " 11  bedrooms              18723 non-null  int64         \n",
      " 12  bathrooms             0 non-null      float64       \n",
      " 13  price                 18723 non-null  int64         \n",
      " 14  minstay               0 non-null      float64       \n",
      " 15  name                  18671 non-null  object        \n",
      " 16  last_modified         18723 non-null  datetime64[ns]\n",
      " 17  latitude              18723 non-null  float64       \n",
      " 18  longitude             18723 non-null  float64       \n",
      " 19  location              18723 non-null  object        \n",
      "dtypes: datetime64[ns](1), float64(7), int64(7), object(5)\n",
      "memory usage: 2.9+ MB\n"
     ]
    }
   ],
   "source": [
    "df1.info()"
   ]
  },
  {
   "cell_type": "code",
   "execution_count": 10,
   "metadata": {},
   "outputs": [
    {
     "data": {
      "text/plain": [
       "(18723, 20)"
      ]
     },
     "execution_count": 10,
     "metadata": {},
     "output_type": "execute_result"
    }
   ],
   "source": [
    "df1.shape"
   ]
  },
  {
   "cell_type": "code",
   "execution_count": 4,
   "metadata": {},
   "outputs": [
    {
     "data": {
      "text/html": [
       "<div>\n",
       "<style scoped>\n",
       "    .dataframe tbody tr th:only-of-type {\n",
       "        vertical-align: middle;\n",
       "    }\n",
       "\n",
       "    .dataframe tbody tr th {\n",
       "        vertical-align: top;\n",
       "    }\n",
       "\n",
       "    .dataframe thead th {\n",
       "        text-align: right;\n",
       "    }\n",
       "</style>\n",
       "<table border=\"1\" class=\"dataframe\">\n",
       "  <thead>\n",
       "    <tr style=\"text-align: right;\">\n",
       "      <th></th>\n",
       "      <th>room_id</th>\n",
       "      <th>survey_id</th>\n",
       "      <th>host_id</th>\n",
       "      <th>room_type</th>\n",
       "      <th>country</th>\n",
       "      <th>city</th>\n",
       "      <th>borough</th>\n",
       "      <th>neighborhood</th>\n",
       "      <th>reviews</th>\n",
       "      <th>overall_satisfaction</th>\n",
       "      <th>accommodates</th>\n",
       "      <th>bedrooms</th>\n",
       "      <th>bathrooms</th>\n",
       "      <th>price</th>\n",
       "      <th>minstay</th>\n",
       "      <th>name</th>\n",
       "      <th>last_modified</th>\n",
       "      <th>latitude</th>\n",
       "      <th>longitude</th>\n",
       "      <th>location</th>\n",
       "    </tr>\n",
       "  </thead>\n",
       "  <tbody>\n",
       "    <tr>\n",
       "      <th>0</th>\n",
       "      <td>10176931</td>\n",
       "      <td>1476</td>\n",
       "      <td>49180562</td>\n",
       "      <td>Shared room</td>\n",
       "      <td>NaN</td>\n",
       "      <td>Amsterdam</td>\n",
       "      <td>NaN</td>\n",
       "      <td>De Pijp / Rivierenbuurt</td>\n",
       "      <td>7</td>\n",
       "      <td>4.5</td>\n",
       "      <td>2</td>\n",
       "      <td>1</td>\n",
       "      <td>NaN</td>\n",
       "      <td>156</td>\n",
       "      <td>NaN</td>\n",
       "      <td>Red Light/ Canal view apartment (Shared)</td>\n",
       "      <td>2017-07-23 13:06:27.392</td>\n",
       "      <td>52.356209</td>\n",
       "      <td>4.887491</td>\n",
       "      <td>0101000020E610000033FAD170CA8C13403BC5AA41982D...</td>\n",
       "    </tr>\n",
       "    <tr>\n",
       "      <th>1</th>\n",
       "      <td>8935871</td>\n",
       "      <td>1476</td>\n",
       "      <td>46718394</td>\n",
       "      <td>Shared room</td>\n",
       "      <td>NaN</td>\n",
       "      <td>Amsterdam</td>\n",
       "      <td>NaN</td>\n",
       "      <td>Centrum West</td>\n",
       "      <td>45</td>\n",
       "      <td>4.5</td>\n",
       "      <td>4</td>\n",
       "      <td>1</td>\n",
       "      <td>NaN</td>\n",
       "      <td>126</td>\n",
       "      <td>NaN</td>\n",
       "      <td>Sunny and Cozy Living room in quite neighbours</td>\n",
       "      <td>2017-07-23 13:06:23.607</td>\n",
       "      <td>52.378518</td>\n",
       "      <td>4.896120</td>\n",
       "      <td>0101000020E6100000842A357BA095134042791F477330...</td>\n",
       "    </tr>\n",
       "    <tr>\n",
       "      <th>2</th>\n",
       "      <td>14011697</td>\n",
       "      <td>1476</td>\n",
       "      <td>10346595</td>\n",
       "      <td>Shared room</td>\n",
       "      <td>NaN</td>\n",
       "      <td>Amsterdam</td>\n",
       "      <td>NaN</td>\n",
       "      <td>Watergraafsmeer</td>\n",
       "      <td>1</td>\n",
       "      <td>0.0</td>\n",
       "      <td>3</td>\n",
       "      <td>1</td>\n",
       "      <td>NaN</td>\n",
       "      <td>132</td>\n",
       "      <td>NaN</td>\n",
       "      <td>Amsterdam</td>\n",
       "      <td>2017-07-23 13:06:23.604</td>\n",
       "      <td>52.338811</td>\n",
       "      <td>4.943592</td>\n",
       "      <td>0101000020E6100000A51133FB3CC613403543AA285E2B...</td>\n",
       "    </tr>\n",
       "    <tr>\n",
       "      <th>3</th>\n",
       "      <td>6137978</td>\n",
       "      <td>1476</td>\n",
       "      <td>8685430</td>\n",
       "      <td>Shared room</td>\n",
       "      <td>NaN</td>\n",
       "      <td>Amsterdam</td>\n",
       "      <td>NaN</td>\n",
       "      <td>Centrum West</td>\n",
       "      <td>7</td>\n",
       "      <td>5.0</td>\n",
       "      <td>4</td>\n",
       "      <td>1</td>\n",
       "      <td>NaN</td>\n",
       "      <td>121</td>\n",
       "      <td>NaN</td>\n",
       "      <td>Canal boat RIDE in Amsterdam</td>\n",
       "      <td>2017-07-23 13:06:22.690</td>\n",
       "      <td>52.376319</td>\n",
       "      <td>4.890028</td>\n",
       "      <td>0101000020E6100000DF180280638F134085EE92382B30...</td>\n",
       "    </tr>\n",
       "    <tr>\n",
       "      <th>4</th>\n",
       "      <td>18630616</td>\n",
       "      <td>1476</td>\n",
       "      <td>70191803</td>\n",
       "      <td>Shared room</td>\n",
       "      <td>NaN</td>\n",
       "      <td>Amsterdam</td>\n",
       "      <td>NaN</td>\n",
       "      <td>De Baarsjes / Oud West</td>\n",
       "      <td>1</td>\n",
       "      <td>0.0</td>\n",
       "      <td>2</td>\n",
       "      <td>1</td>\n",
       "      <td>NaN</td>\n",
       "      <td>93</td>\n",
       "      <td>NaN</td>\n",
       "      <td>One room for rent in a three room appartment</td>\n",
       "      <td>2017-07-23 13:06:19.681</td>\n",
       "      <td>52.370384</td>\n",
       "      <td>4.852873</td>\n",
       "      <td>0101000020E6100000CD902A8A57691340187B2FBE682F...</td>\n",
       "    </tr>\n",
       "  </tbody>\n",
       "</table>\n",
       "</div>"
      ],
      "text/plain": [
       "    room_id  survey_id   host_id    room_type  country       city  borough  \\\n",
       "0  10176931       1476  49180562  Shared room      NaN  Amsterdam      NaN   \n",
       "1   8935871       1476  46718394  Shared room      NaN  Amsterdam      NaN   \n",
       "2  14011697       1476  10346595  Shared room      NaN  Amsterdam      NaN   \n",
       "3   6137978       1476   8685430  Shared room      NaN  Amsterdam      NaN   \n",
       "4  18630616       1476  70191803  Shared room      NaN  Amsterdam      NaN   \n",
       "\n",
       "              neighborhood  reviews  overall_satisfaction  accommodates  \\\n",
       "0  De Pijp / Rivierenbuurt        7                   4.5             2   \n",
       "1             Centrum West       45                   4.5             4   \n",
       "2          Watergraafsmeer        1                   0.0             3   \n",
       "3             Centrum West        7                   5.0             4   \n",
       "4   De Baarsjes / Oud West        1                   0.0             2   \n",
       "\n",
       "   bedrooms  bathrooms  price  minstay  \\\n",
       "0         1        NaN    156      NaN   \n",
       "1         1        NaN    126      NaN   \n",
       "2         1        NaN    132      NaN   \n",
       "3         1        NaN    121      NaN   \n",
       "4         1        NaN     93      NaN   \n",
       "\n",
       "                                             name           last_modified  \\\n",
       "0        Red Light/ Canal view apartment (Shared) 2017-07-23 13:06:27.392   \n",
       "1  Sunny and Cozy Living room in quite neighbours 2017-07-23 13:06:23.607   \n",
       "2                                       Amsterdam 2017-07-23 13:06:23.604   \n",
       "3                    Canal boat RIDE in Amsterdam 2017-07-23 13:06:22.690   \n",
       "4    One room for rent in a three room appartment 2017-07-23 13:06:19.681   \n",
       "\n",
       "    latitude  longitude                                           location  \n",
       "0  52.356209   4.887491  0101000020E610000033FAD170CA8C13403BC5AA41982D...  \n",
       "1  52.378518   4.896120  0101000020E6100000842A357BA095134042791F477330...  \n",
       "2  52.338811   4.943592  0101000020E6100000A51133FB3CC613403543AA285E2B...  \n",
       "3  52.376319   4.890028  0101000020E6100000DF180280638F134085EE92382B30...  \n",
       "4  52.370384   4.852873  0101000020E6100000CD902A8A57691340187B2FBE682F...  "
      ]
     },
     "execution_count": 4,
     "metadata": {},
     "output_type": "execute_result"
    }
   ],
   "source": [
    "df2 = pd.read_excel(\"Data/airbnb prices2.xlsx\")\n",
    "df2.head()"
   ]
  },
  {
   "cell_type": "code",
   "execution_count": 5,
   "metadata": {},
   "outputs": [
    {
     "name": "stdout",
     "output_type": "stream",
     "text": [
      "<class 'pandas.core.frame.DataFrame'>\n",
      "RangeIndex: 18723 entries, 0 to 18722\n",
      "Data columns (total 20 columns):\n",
      " #   Column                Non-Null Count  Dtype         \n",
      "---  ------                --------------  -----         \n",
      " 0   room_id               18723 non-null  int64         \n",
      " 1   survey_id             18723 non-null  int64         \n",
      " 2   host_id               18723 non-null  int64         \n",
      " 3   room_type             18723 non-null  object        \n",
      " 4   country               0 non-null      float64       \n",
      " 5   city                  18723 non-null  object        \n",
      " 6   borough               0 non-null      float64       \n",
      " 7   neighborhood          18723 non-null  object        \n",
      " 8   reviews               18723 non-null  int64         \n",
      " 9   overall_satisfaction  18723 non-null  float64       \n",
      " 10  accommodates          18723 non-null  int64         \n",
      " 11  bedrooms              18723 non-null  int64         \n",
      " 12  bathrooms             0 non-null      float64       \n",
      " 13  price                 18723 non-null  int64         \n",
      " 14  minstay               0 non-null      float64       \n",
      " 15  name                  18671 non-null  object        \n",
      " 16  last_modified         18723 non-null  datetime64[ns]\n",
      " 17  latitude              18723 non-null  float64       \n",
      " 18  longitude             18723 non-null  float64       \n",
      " 19  location              18723 non-null  object        \n",
      "dtypes: datetime64[ns](1), float64(7), int64(7), object(5)\n",
      "memory usage: 2.9+ MB\n"
     ]
    }
   ],
   "source": [
    "df2.info()"
   ]
  },
  {
   "cell_type": "code",
   "execution_count": 11,
   "metadata": {},
   "outputs": [
    {
     "data": {
      "text/plain": [
       "(18723, 20)"
      ]
     },
     "execution_count": 11,
     "metadata": {},
     "output_type": "execute_result"
    }
   ],
   "source": [
    "df2.shape"
   ]
  },
  {
   "cell_type": "code",
   "execution_count": 6,
   "metadata": {},
   "outputs": [
    {
     "data": {
      "text/html": [
       "<div>\n",
       "<style scoped>\n",
       "    .dataframe tbody tr th:only-of-type {\n",
       "        vertical-align: middle;\n",
       "    }\n",
       "\n",
       "    .dataframe tbody tr th {\n",
       "        vertical-align: top;\n",
       "    }\n",
       "\n",
       "    .dataframe thead th {\n",
       "        text-align: right;\n",
       "    }\n",
       "</style>\n",
       "<table border=\"1\" class=\"dataframe\">\n",
       "  <thead>\n",
       "    <tr style=\"text-align: right;\">\n",
       "      <th></th>\n",
       "      <th>room_id</th>\n",
       "      <th>survey_id</th>\n",
       "      <th>host_id</th>\n",
       "      <th>room_type</th>\n",
       "      <th>country</th>\n",
       "      <th>city</th>\n",
       "      <th>borough</th>\n",
       "      <th>neighborhood</th>\n",
       "      <th>reviews</th>\n",
       "      <th>overall_satisfaction</th>\n",
       "      <th>accommodates</th>\n",
       "      <th>bedrooms</th>\n",
       "      <th>bathrooms</th>\n",
       "      <th>price</th>\n",
       "      <th>minstay</th>\n",
       "      <th>name</th>\n",
       "      <th>last_modified</th>\n",
       "      <th>latitude</th>\n",
       "      <th>longitude</th>\n",
       "      <th>location</th>\n",
       "    </tr>\n",
       "  </thead>\n",
       "  <tbody>\n",
       "    <tr>\n",
       "      <th>0</th>\n",
       "      <td>10176931</td>\n",
       "      <td>1476</td>\n",
       "      <td>49180562</td>\n",
       "      <td>Shared room</td>\n",
       "      <td>NaN</td>\n",
       "      <td>Amsterdam</td>\n",
       "      <td>NaN</td>\n",
       "      <td>De Pijp / Rivierenbuurt</td>\n",
       "      <td>7</td>\n",
       "      <td>4.5</td>\n",
       "      <td>2</td>\n",
       "      <td>1</td>\n",
       "      <td>NaN</td>\n",
       "      <td>156</td>\n",
       "      <td>NaN</td>\n",
       "      <td>Red Light/ Canal view apartment (Shared)</td>\n",
       "      <td>2017-07-23 13:06:27.392</td>\n",
       "      <td>52.356209</td>\n",
       "      <td>4.887491</td>\n",
       "      <td>0101000020E610000033FAD170CA8C13403BC5AA41982D...</td>\n",
       "    </tr>\n",
       "    <tr>\n",
       "      <th>1</th>\n",
       "      <td>8935871</td>\n",
       "      <td>1476</td>\n",
       "      <td>46718394</td>\n",
       "      <td>Shared room</td>\n",
       "      <td>NaN</td>\n",
       "      <td>Amsterdam</td>\n",
       "      <td>NaN</td>\n",
       "      <td>Centrum West</td>\n",
       "      <td>45</td>\n",
       "      <td>4.5</td>\n",
       "      <td>4</td>\n",
       "      <td>1</td>\n",
       "      <td>NaN</td>\n",
       "      <td>126</td>\n",
       "      <td>NaN</td>\n",
       "      <td>Sunny and Cozy Living room in quite neighbours</td>\n",
       "      <td>2017-07-23 13:06:23.607</td>\n",
       "      <td>52.378518</td>\n",
       "      <td>4.896120</td>\n",
       "      <td>0101000020E6100000842A357BA095134042791F477330...</td>\n",
       "    </tr>\n",
       "    <tr>\n",
       "      <th>2</th>\n",
       "      <td>14011697</td>\n",
       "      <td>1476</td>\n",
       "      <td>10346595</td>\n",
       "      <td>Shared room</td>\n",
       "      <td>NaN</td>\n",
       "      <td>Amsterdam</td>\n",
       "      <td>NaN</td>\n",
       "      <td>Watergraafsmeer</td>\n",
       "      <td>1</td>\n",
       "      <td>0.0</td>\n",
       "      <td>3</td>\n",
       "      <td>1</td>\n",
       "      <td>NaN</td>\n",
       "      <td>132</td>\n",
       "      <td>NaN</td>\n",
       "      <td>Amsterdam</td>\n",
       "      <td>2017-07-23 13:06:23.604</td>\n",
       "      <td>52.338811</td>\n",
       "      <td>4.943592</td>\n",
       "      <td>0101000020E6100000A51133FB3CC613403543AA285E2B...</td>\n",
       "    </tr>\n",
       "    <tr>\n",
       "      <th>3</th>\n",
       "      <td>6137978</td>\n",
       "      <td>1476</td>\n",
       "      <td>8685430</td>\n",
       "      <td>Shared room</td>\n",
       "      <td>NaN</td>\n",
       "      <td>Amsterdam</td>\n",
       "      <td>NaN</td>\n",
       "      <td>Centrum West</td>\n",
       "      <td>7</td>\n",
       "      <td>5.0</td>\n",
       "      <td>4</td>\n",
       "      <td>1</td>\n",
       "      <td>NaN</td>\n",
       "      <td>121</td>\n",
       "      <td>NaN</td>\n",
       "      <td>Canal boat RIDE in Amsterdam</td>\n",
       "      <td>2017-07-23 13:06:22.690</td>\n",
       "      <td>52.376319</td>\n",
       "      <td>4.890028</td>\n",
       "      <td>0101000020E6100000DF180280638F134085EE92382B30...</td>\n",
       "    </tr>\n",
       "    <tr>\n",
       "      <th>4</th>\n",
       "      <td>18630616</td>\n",
       "      <td>1476</td>\n",
       "      <td>70191803</td>\n",
       "      <td>Shared room</td>\n",
       "      <td>NaN</td>\n",
       "      <td>Amsterdam</td>\n",
       "      <td>NaN</td>\n",
       "      <td>De Baarsjes / Oud West</td>\n",
       "      <td>1</td>\n",
       "      <td>0.0</td>\n",
       "      <td>2</td>\n",
       "      <td>1</td>\n",
       "      <td>NaN</td>\n",
       "      <td>93</td>\n",
       "      <td>NaN</td>\n",
       "      <td>One room for rent in a three room appartment</td>\n",
       "      <td>2017-07-23 13:06:19.681</td>\n",
       "      <td>52.370384</td>\n",
       "      <td>4.852873</td>\n",
       "      <td>0101000020E6100000CD902A8A57691340187B2FBE682F...</td>\n",
       "    </tr>\n",
       "  </tbody>\n",
       "</table>\n",
       "</div>"
      ],
      "text/plain": [
       "    room_id  survey_id   host_id    room_type  country       city  borough  \\\n",
       "0  10176931       1476  49180562  Shared room      NaN  Amsterdam      NaN   \n",
       "1   8935871       1476  46718394  Shared room      NaN  Amsterdam      NaN   \n",
       "2  14011697       1476  10346595  Shared room      NaN  Amsterdam      NaN   \n",
       "3   6137978       1476   8685430  Shared room      NaN  Amsterdam      NaN   \n",
       "4  18630616       1476  70191803  Shared room      NaN  Amsterdam      NaN   \n",
       "\n",
       "              neighborhood  reviews  overall_satisfaction  accommodates  \\\n",
       "0  De Pijp / Rivierenbuurt        7                   4.5             2   \n",
       "1             Centrum West       45                   4.5             4   \n",
       "2          Watergraafsmeer        1                   0.0             3   \n",
       "3             Centrum West        7                   5.0             4   \n",
       "4   De Baarsjes / Oud West        1                   0.0             2   \n",
       "\n",
       "   bedrooms  bathrooms  price  minstay  \\\n",
       "0         1        NaN    156      NaN   \n",
       "1         1        NaN    126      NaN   \n",
       "2         1        NaN    132      NaN   \n",
       "3         1        NaN    121      NaN   \n",
       "4         1        NaN     93      NaN   \n",
       "\n",
       "                                             name           last_modified  \\\n",
       "0        Red Light/ Canal view apartment (Shared) 2017-07-23 13:06:27.392   \n",
       "1  Sunny and Cozy Living room in quite neighbours 2017-07-23 13:06:23.607   \n",
       "2                                       Amsterdam 2017-07-23 13:06:23.604   \n",
       "3                    Canal boat RIDE in Amsterdam 2017-07-23 13:06:22.690   \n",
       "4    One room for rent in a three room appartment 2017-07-23 13:06:19.681   \n",
       "\n",
       "    latitude  longitude                                           location  \n",
       "0  52.356209   4.887491  0101000020E610000033FAD170CA8C13403BC5AA41982D...  \n",
       "1  52.378518   4.896120  0101000020E6100000842A357BA095134042791F477330...  \n",
       "2  52.338811   4.943592  0101000020E6100000A51133FB3CC613403543AA285E2B...  \n",
       "3  52.376319   4.890028  0101000020E6100000DF180280638F134085EE92382B30...  \n",
       "4  52.370384   4.852873  0101000020E6100000CD902A8A57691340187B2FBE682F...  "
      ]
     },
     "execution_count": 6,
     "metadata": {},
     "output_type": "execute_result"
    }
   ],
   "source": [
    "df3 = pd.read_excel(\"Data/airbnb prices3.xlsx\")\n",
    "df3.head()"
   ]
  },
  {
   "cell_type": "code",
   "execution_count": 7,
   "metadata": {},
   "outputs": [
    {
     "name": "stdout",
     "output_type": "stream",
     "text": [
      "<class 'pandas.core.frame.DataFrame'>\n",
      "RangeIndex: 18723 entries, 0 to 18722\n",
      "Data columns (total 20 columns):\n",
      " #   Column                Non-Null Count  Dtype         \n",
      "---  ------                --------------  -----         \n",
      " 0   room_id               18723 non-null  int64         \n",
      " 1   survey_id             18723 non-null  int64         \n",
      " 2   host_id               18723 non-null  int64         \n",
      " 3   room_type             18723 non-null  object        \n",
      " 4   country               0 non-null      float64       \n",
      " 5   city                  18723 non-null  object        \n",
      " 6   borough               0 non-null      float64       \n",
      " 7   neighborhood          18723 non-null  object        \n",
      " 8   reviews               18723 non-null  int64         \n",
      " 9   overall_satisfaction  18723 non-null  float64       \n",
      " 10  accommodates          18723 non-null  int64         \n",
      " 11  bedrooms              18723 non-null  int64         \n",
      " 12  bathrooms             0 non-null      float64       \n",
      " 13  price                 18723 non-null  int64         \n",
      " 14  minstay               0 non-null      float64       \n",
      " 15  name                  18671 non-null  object        \n",
      " 16  last_modified         18723 non-null  datetime64[ns]\n",
      " 17  latitude              18723 non-null  float64       \n",
      " 18  longitude             18723 non-null  float64       \n",
      " 19  location              18723 non-null  object        \n",
      "dtypes: datetime64[ns](1), float64(7), int64(7), object(5)\n",
      "memory usage: 2.9+ MB\n"
     ]
    }
   ],
   "source": [
    "df3.info()"
   ]
  },
  {
   "cell_type": "code",
   "execution_count": 12,
   "metadata": {},
   "outputs": [
    {
     "data": {
      "text/plain": [
       "(18723, 20)"
      ]
     },
     "execution_count": 12,
     "metadata": {},
     "output_type": "execute_result"
    }
   ],
   "source": [
    "df3.shape"
   ]
  },
  {
   "cell_type": "code",
   "execution_count": 8,
   "metadata": {},
   "outputs": [
    {
     "data": {
      "text/html": [
       "<div>\n",
       "<style scoped>\n",
       "    .dataframe tbody tr th:only-of-type {\n",
       "        vertical-align: middle;\n",
       "    }\n",
       "\n",
       "    .dataframe tbody tr th {\n",
       "        vertical-align: top;\n",
       "    }\n",
       "\n",
       "    .dataframe thead th {\n",
       "        text-align: right;\n",
       "    }\n",
       "</style>\n",
       "<table border=\"1\" class=\"dataframe\">\n",
       "  <thead>\n",
       "    <tr style=\"text-align: right;\">\n",
       "      <th></th>\n",
       "      <th>room_id</th>\n",
       "      <th>survey_id</th>\n",
       "      <th>host_id</th>\n",
       "      <th>room_type</th>\n",
       "      <th>country</th>\n",
       "      <th>city</th>\n",
       "      <th>borough</th>\n",
       "      <th>neighborhood</th>\n",
       "      <th>reviews</th>\n",
       "      <th>overall_satisfaction</th>\n",
       "      <th>accommodates</th>\n",
       "      <th>bedrooms</th>\n",
       "      <th>bathrooms</th>\n",
       "      <th>price</th>\n",
       "      <th>minstay</th>\n",
       "      <th>name</th>\n",
       "      <th>last_modified</th>\n",
       "      <th>latitude</th>\n",
       "      <th>longitude</th>\n",
       "      <th>location</th>\n",
       "    </tr>\n",
       "  </thead>\n",
       "  <tbody>\n",
       "    <tr>\n",
       "      <th>0</th>\n",
       "      <td>10176931</td>\n",
       "      <td>1476</td>\n",
       "      <td>49180562</td>\n",
       "      <td>Shared room</td>\n",
       "      <td>NaN</td>\n",
       "      <td>Amsterdam</td>\n",
       "      <td>NaN</td>\n",
       "      <td>De Pijp / Rivierenbuurt</td>\n",
       "      <td>7</td>\n",
       "      <td>4.5</td>\n",
       "      <td>2</td>\n",
       "      <td>1.0</td>\n",
       "      <td>NaN</td>\n",
       "      <td>156.0</td>\n",
       "      <td>NaN</td>\n",
       "      <td>Red Light/ Canal view apartment (Shared)</td>\n",
       "      <td>2017-07-23 13:06:27.391699</td>\n",
       "      <td>52.356209</td>\n",
       "      <td>4.887491</td>\n",
       "      <td>0101000020E610000033FAD170CA8C13403BC5AA41982D...</td>\n",
       "    </tr>\n",
       "    <tr>\n",
       "      <th>1</th>\n",
       "      <td>8935871</td>\n",
       "      <td>1476</td>\n",
       "      <td>46718394</td>\n",
       "      <td>Shared room</td>\n",
       "      <td>NaN</td>\n",
       "      <td>Amsterdam</td>\n",
       "      <td>NaN</td>\n",
       "      <td>Centrum West</td>\n",
       "      <td>45</td>\n",
       "      <td>4.5</td>\n",
       "      <td>4</td>\n",
       "      <td>1.0</td>\n",
       "      <td>NaN</td>\n",
       "      <td>126.0</td>\n",
       "      <td>NaN</td>\n",
       "      <td>Sunny and Cozy Living room in quite neighbours</td>\n",
       "      <td>2017-07-23 13:06:23.607187</td>\n",
       "      <td>52.378518</td>\n",
       "      <td>4.896120</td>\n",
       "      <td>0101000020E6100000842A357BA095134042791F477330...</td>\n",
       "    </tr>\n",
       "    <tr>\n",
       "      <th>2</th>\n",
       "      <td>14011697</td>\n",
       "      <td>1476</td>\n",
       "      <td>10346595</td>\n",
       "      <td>Shared room</td>\n",
       "      <td>NaN</td>\n",
       "      <td>Amsterdam</td>\n",
       "      <td>NaN</td>\n",
       "      <td>Watergraafsmeer</td>\n",
       "      <td>1</td>\n",
       "      <td>0.0</td>\n",
       "      <td>3</td>\n",
       "      <td>1.0</td>\n",
       "      <td>NaN</td>\n",
       "      <td>132.0</td>\n",
       "      <td>NaN</td>\n",
       "      <td>Amsterdam</td>\n",
       "      <td>2017-07-23 13:06:23.603546</td>\n",
       "      <td>52.338811</td>\n",
       "      <td>4.943592</td>\n",
       "      <td>0101000020E6100000A51133FB3CC613403543AA285E2B...</td>\n",
       "    </tr>\n",
       "    <tr>\n",
       "      <th>3</th>\n",
       "      <td>6137978</td>\n",
       "      <td>1476</td>\n",
       "      <td>8685430</td>\n",
       "      <td>Shared room</td>\n",
       "      <td>NaN</td>\n",
       "      <td>Amsterdam</td>\n",
       "      <td>NaN</td>\n",
       "      <td>Centrum West</td>\n",
       "      <td>7</td>\n",
       "      <td>5.0</td>\n",
       "      <td>4</td>\n",
       "      <td>1.0</td>\n",
       "      <td>NaN</td>\n",
       "      <td>121.0</td>\n",
       "      <td>NaN</td>\n",
       "      <td>Canal boat RIDE in Amsterdam</td>\n",
       "      <td>2017-07-23 13:06:22.689787</td>\n",
       "      <td>52.376319</td>\n",
       "      <td>4.890028</td>\n",
       "      <td>0101000020E6100000DF180280638F134085EE92382B30...</td>\n",
       "    </tr>\n",
       "    <tr>\n",
       "      <th>4</th>\n",
       "      <td>18630616</td>\n",
       "      <td>1476</td>\n",
       "      <td>70191803</td>\n",
       "      <td>Shared room</td>\n",
       "      <td>NaN</td>\n",
       "      <td>Amsterdam</td>\n",
       "      <td>NaN</td>\n",
       "      <td>De Baarsjes / Oud West</td>\n",
       "      <td>1</td>\n",
       "      <td>0.0</td>\n",
       "      <td>2</td>\n",
       "      <td>1.0</td>\n",
       "      <td>NaN</td>\n",
       "      <td>93.0</td>\n",
       "      <td>NaN</td>\n",
       "      <td>One room for rent in a three room appartment</td>\n",
       "      <td>2017-07-23 13:06:19.681469</td>\n",
       "      <td>52.370384</td>\n",
       "      <td>4.852873</td>\n",
       "      <td>0101000020E6100000CD902A8A57691340187B2FBE682F...</td>\n",
       "    </tr>\n",
       "  </tbody>\n",
       "</table>\n",
       "</div>"
      ],
      "text/plain": [
       "    room_id  survey_id   host_id    room_type  country       city  borough  \\\n",
       "0  10176931       1476  49180562  Shared room      NaN  Amsterdam      NaN   \n",
       "1   8935871       1476  46718394  Shared room      NaN  Amsterdam      NaN   \n",
       "2  14011697       1476  10346595  Shared room      NaN  Amsterdam      NaN   \n",
       "3   6137978       1476   8685430  Shared room      NaN  Amsterdam      NaN   \n",
       "4  18630616       1476  70191803  Shared room      NaN  Amsterdam      NaN   \n",
       "\n",
       "              neighborhood  reviews  overall_satisfaction  accommodates  \\\n",
       "0  De Pijp / Rivierenbuurt        7                   4.5             2   \n",
       "1             Centrum West       45                   4.5             4   \n",
       "2          Watergraafsmeer        1                   0.0             3   \n",
       "3             Centrum West        7                   5.0             4   \n",
       "4   De Baarsjes / Oud West        1                   0.0             2   \n",
       "\n",
       "   bedrooms  bathrooms  price  minstay  \\\n",
       "0       1.0        NaN  156.0      NaN   \n",
       "1       1.0        NaN  126.0      NaN   \n",
       "2       1.0        NaN  132.0      NaN   \n",
       "3       1.0        NaN  121.0      NaN   \n",
       "4       1.0        NaN   93.0      NaN   \n",
       "\n",
       "                                             name               last_modified  \\\n",
       "0        Red Light/ Canal view apartment (Shared)  2017-07-23 13:06:27.391699   \n",
       "1  Sunny and Cozy Living room in quite neighbours  2017-07-23 13:06:23.607187   \n",
       "2                                       Amsterdam  2017-07-23 13:06:23.603546   \n",
       "3                    Canal boat RIDE in Amsterdam  2017-07-23 13:06:22.689787   \n",
       "4    One room for rent in a three room appartment  2017-07-23 13:06:19.681469   \n",
       "\n",
       "    latitude  longitude                                           location  \n",
       "0  52.356209   4.887491  0101000020E610000033FAD170CA8C13403BC5AA41982D...  \n",
       "1  52.378518   4.896120  0101000020E6100000842A357BA095134042791F477330...  \n",
       "2  52.338811   4.943592  0101000020E6100000A51133FB3CC613403543AA285E2B...  \n",
       "3  52.376319   4.890028  0101000020E6100000DF180280638F134085EE92382B30...  \n",
       "4  52.370384   4.852873  0101000020E6100000CD902A8A57691340187B2FBE682F...  "
      ]
     },
     "execution_count": 8,
     "metadata": {},
     "output_type": "execute_result"
    }
   ],
   "source": [
    "df4 = pd.read_csv(\"Data/airbnb prices4.csv\")\n",
    "df4.head()"
   ]
  },
  {
   "cell_type": "code",
   "execution_count": 9,
   "metadata": {},
   "outputs": [
    {
     "name": "stdout",
     "output_type": "stream",
     "text": [
      "<class 'pandas.core.frame.DataFrame'>\n",
      "RangeIndex: 18723 entries, 0 to 18722\n",
      "Data columns (total 20 columns):\n",
      " #   Column                Non-Null Count  Dtype  \n",
      "---  ------                --------------  -----  \n",
      " 0   room_id               18723 non-null  int64  \n",
      " 1   survey_id             18723 non-null  int64  \n",
      " 2   host_id               18723 non-null  int64  \n",
      " 3   room_type             18723 non-null  object \n",
      " 4   country               0 non-null      float64\n",
      " 5   city                  18723 non-null  object \n",
      " 6   borough               0 non-null      float64\n",
      " 7   neighborhood          18723 non-null  object \n",
      " 8   reviews               18723 non-null  int64  \n",
      " 9   overall_satisfaction  18723 non-null  float64\n",
      " 10  accommodates          18723 non-null  int64  \n",
      " 11  bedrooms              18723 non-null  float64\n",
      " 12  bathrooms             0 non-null      float64\n",
      " 13  price                 18723 non-null  float64\n",
      " 14  minstay               0 non-null      float64\n",
      " 15  name                  18671 non-null  object \n",
      " 16  last_modified         18723 non-null  object \n",
      " 17  latitude              18723 non-null  float64\n",
      " 18  longitude             18723 non-null  float64\n",
      " 19  location              18723 non-null  object \n",
      "dtypes: float64(9), int64(5), object(6)\n",
      "memory usage: 2.9+ MB\n"
     ]
    }
   ],
   "source": [
    "df4.info()"
   ]
  },
  {
   "cell_type": "code",
   "execution_count": 13,
   "metadata": {},
   "outputs": [
    {
     "data": {
      "text/plain": [
       "(18723, 20)"
      ]
     },
     "execution_count": 13,
     "metadata": {},
     "output_type": "execute_result"
    }
   ],
   "source": [
    "df4.shape"
   ]
  },
  {
   "cell_type": "code",
   "execution_count": 16,
   "metadata": {},
   "outputs": [
    {
     "data": {
      "text/plain": [
       "room_id                     0\n",
       "survey_id                   0\n",
       "host_id                     0\n",
       "room_type                   0\n",
       "country                 18723\n",
       "city                        0\n",
       "borough                 18723\n",
       "neighborhood                0\n",
       "reviews                     0\n",
       "overall_satisfaction        0\n",
       "accommodates                0\n",
       "bedrooms                    0\n",
       "bathrooms               18723\n",
       "price                       0\n",
       "minstay                 18723\n",
       "name                       52\n",
       "last_modified               0\n",
       "latitude                    0\n",
       "longitude                   0\n",
       "location                    0\n",
       "dtype: int64"
      ]
     },
     "execution_count": 16,
     "metadata": {},
     "output_type": "execute_result"
    }
   ],
   "source": [
    "df1.isnull().sum()"
   ]
  },
  {
   "cell_type": "code",
   "execution_count": 20,
   "metadata": {},
   "outputs": [],
   "source": [
    "df1.drop(['country','borough','bathrooms','minstay'],axis=1,inplace=True)"
   ]
  },
  {
   "cell_type": "code",
   "execution_count": 21,
   "metadata": {},
   "outputs": [
    {
     "data": {
      "text/plain": [
       "room_id                  0\n",
       "survey_id                0\n",
       "host_id                  0\n",
       "room_type                0\n",
       "city                     0\n",
       "neighborhood             0\n",
       "reviews                  0\n",
       "overall_satisfaction     0\n",
       "accommodates             0\n",
       "bedrooms                 0\n",
       "price                    0\n",
       "name                    52\n",
       "last_modified            0\n",
       "latitude                 0\n",
       "longitude                0\n",
       "location                 0\n",
       "dtype: int64"
      ]
     },
     "execution_count": 21,
     "metadata": {},
     "output_type": "execute_result"
    }
   ],
   "source": [
    "df1.isnull().sum()"
   ]
  },
  {
   "cell_type": "code",
   "execution_count": 17,
   "metadata": {},
   "outputs": [
    {
     "data": {
      "text/plain": [
       "room_id                     0\n",
       "survey_id                   0\n",
       "host_id                     0\n",
       "room_type                   0\n",
       "country                 18723\n",
       "city                        0\n",
       "borough                 18723\n",
       "neighborhood                0\n",
       "reviews                     0\n",
       "overall_satisfaction        0\n",
       "accommodates                0\n",
       "bedrooms                    0\n",
       "bathrooms               18723\n",
       "price                       0\n",
       "minstay                 18723\n",
       "name                       52\n",
       "last_modified               0\n",
       "latitude                    0\n",
       "longitude                   0\n",
       "location                    0\n",
       "dtype: int64"
      ]
     },
     "execution_count": 17,
     "metadata": {},
     "output_type": "execute_result"
    }
   ],
   "source": [
    "df2.isnull().sum()"
   ]
  },
  {
   "cell_type": "code",
   "execution_count": 22,
   "metadata": {},
   "outputs": [],
   "source": [
    "df2.drop(['country','borough','bathrooms','minstay'],axis=1,inplace=True)"
   ]
  },
  {
   "cell_type": "code",
   "execution_count": 23,
   "metadata": {},
   "outputs": [
    {
     "data": {
      "text/plain": [
       "room_id                  0\n",
       "survey_id                0\n",
       "host_id                  0\n",
       "room_type                0\n",
       "city                     0\n",
       "neighborhood             0\n",
       "reviews                  0\n",
       "overall_satisfaction     0\n",
       "accommodates             0\n",
       "bedrooms                 0\n",
       "price                    0\n",
       "name                    52\n",
       "last_modified            0\n",
       "latitude                 0\n",
       "longitude                0\n",
       "location                 0\n",
       "dtype: int64"
      ]
     },
     "execution_count": 23,
     "metadata": {},
     "output_type": "execute_result"
    }
   ],
   "source": [
    "df2.isnull().sum()"
   ]
  },
  {
   "cell_type": "code",
   "execution_count": 18,
   "metadata": {},
   "outputs": [
    {
     "data": {
      "text/plain": [
       "room_id                     0\n",
       "survey_id                   0\n",
       "host_id                     0\n",
       "room_type                   0\n",
       "country                 18723\n",
       "city                        0\n",
       "borough                 18723\n",
       "neighborhood                0\n",
       "reviews                     0\n",
       "overall_satisfaction        0\n",
       "accommodates                0\n",
       "bedrooms                    0\n",
       "bathrooms               18723\n",
       "price                       0\n",
       "minstay                 18723\n",
       "name                       52\n",
       "last_modified               0\n",
       "latitude                    0\n",
       "longitude                   0\n",
       "location                    0\n",
       "dtype: int64"
      ]
     },
     "execution_count": 18,
     "metadata": {},
     "output_type": "execute_result"
    }
   ],
   "source": [
    "df3.isnull().sum()"
   ]
  },
  {
   "cell_type": "code",
   "execution_count": 24,
   "metadata": {},
   "outputs": [],
   "source": [
    "df3.drop(['country','borough','bathrooms','minstay'],axis=1,inplace=True)"
   ]
  },
  {
   "cell_type": "code",
   "execution_count": 26,
   "metadata": {},
   "outputs": [
    {
     "data": {
      "text/plain": [
       "room_id                  0\n",
       "survey_id                0\n",
       "host_id                  0\n",
       "room_type                0\n",
       "city                     0\n",
       "neighborhood             0\n",
       "reviews                  0\n",
       "overall_satisfaction     0\n",
       "accommodates             0\n",
       "bedrooms                 0\n",
       "price                    0\n",
       "name                    52\n",
       "last_modified            0\n",
       "latitude                 0\n",
       "longitude                0\n",
       "location                 0\n",
       "dtype: int64"
      ]
     },
     "execution_count": 26,
     "metadata": {},
     "output_type": "execute_result"
    }
   ],
   "source": [
    "df3.isnull().sum()"
   ]
  },
  {
   "cell_type": "code",
   "execution_count": 19,
   "metadata": {},
   "outputs": [
    {
     "data": {
      "text/plain": [
       "room_id                     0\n",
       "survey_id                   0\n",
       "host_id                     0\n",
       "room_type                   0\n",
       "country                 18723\n",
       "city                        0\n",
       "borough                 18723\n",
       "neighborhood                0\n",
       "reviews                     0\n",
       "overall_satisfaction        0\n",
       "accommodates                0\n",
       "bedrooms                    0\n",
       "bathrooms               18723\n",
       "price                       0\n",
       "minstay                 18723\n",
       "name                       52\n",
       "last_modified               0\n",
       "latitude                    0\n",
       "longitude                   0\n",
       "location                    0\n",
       "dtype: int64"
      ]
     },
     "execution_count": 19,
     "metadata": {},
     "output_type": "execute_result"
    }
   ],
   "source": [
    "df4.isnull().sum()"
   ]
  },
  {
   "cell_type": "code",
   "execution_count": 25,
   "metadata": {},
   "outputs": [],
   "source": [
    "df4.drop(['country','borough','bathrooms','minstay'],axis=1,inplace=True)"
   ]
  },
  {
   "cell_type": "code",
   "execution_count": 27,
   "metadata": {},
   "outputs": [
    {
     "data": {
      "text/plain": [
       "room_id                  0\n",
       "survey_id                0\n",
       "host_id                  0\n",
       "room_type                0\n",
       "city                     0\n",
       "neighborhood             0\n",
       "reviews                  0\n",
       "overall_satisfaction     0\n",
       "accommodates             0\n",
       "bedrooms                 0\n",
       "price                    0\n",
       "name                    52\n",
       "last_modified            0\n",
       "latitude                 0\n",
       "longitude                0\n",
       "location                 0\n",
       "dtype: int64"
      ]
     },
     "execution_count": 27,
     "metadata": {},
     "output_type": "execute_result"
    }
   ],
   "source": [
    "df4.isnull().sum()"
   ]
  },
  {
   "cell_type": "code",
   "execution_count": 29,
   "metadata": {},
   "outputs": [
    {
     "data": {
      "text/plain": [
       "0"
      ]
     },
     "execution_count": 29,
     "metadata": {},
     "output_type": "execute_result"
    }
   ],
   "source": [
    "df1.duplicated().sum()"
   ]
  },
  {
   "cell_type": "code",
   "execution_count": 30,
   "metadata": {},
   "outputs": [
    {
     "data": {
      "text/plain": [
       "0"
      ]
     },
     "execution_count": 30,
     "metadata": {},
     "output_type": "execute_result"
    }
   ],
   "source": [
    "df2.duplicated().sum()"
   ]
  },
  {
   "cell_type": "code",
   "execution_count": 31,
   "metadata": {},
   "outputs": [
    {
     "data": {
      "text/plain": [
       "0"
      ]
     },
     "execution_count": 31,
     "metadata": {},
     "output_type": "execute_result"
    }
   ],
   "source": [
    "df3.duplicated().sum()"
   ]
  },
  {
   "cell_type": "code",
   "execution_count": 32,
   "metadata": {},
   "outputs": [
    {
     "data": {
      "text/plain": [
       "0"
      ]
     },
     "execution_count": 32,
     "metadata": {},
     "output_type": "execute_result"
    }
   ],
   "source": [
    "df4.duplicated().sum()"
   ]
  },
  {
   "cell_type": "code",
   "execution_count": 33,
   "metadata": {},
   "outputs": [
    {
     "name": "stdout",
     "output_type": "stream",
     "text": [
      "The ROOM_TYPE has : 3 unique values\n",
      "room_type\n",
      "Entire home/apt    14978\n",
      "Private room        3682\n",
      "Shared room           63\n",
      "Name: count, dtype: int64\n",
      "\n",
      "The CITY has : 1 unique values\n",
      "city\n",
      "Amsterdam    18723\n",
      "Name: count, dtype: int64\n",
      "\n",
      "The NEIGHBORHOOD has : 23 unique values\n",
      "neighborhood\n",
      "De Baarsjes / Oud West                    3289\n",
      "De Pijp / Rivierenbuurt                   2378\n",
      "Centrum West                              2225\n",
      "Centrum Oost                              1730\n",
      "Westerpark                                1430\n",
      "Noord-West / Noord-Midden                 1418\n",
      "Oud Oost                                  1169\n",
      "Bos en Lommer                              988\n",
      "Oostelijk Havengebied / Indische Buurt     921\n",
      "Watergraafsmeer                            517\n",
      "Oud Noord                                  494\n",
      "Ijburg / Eiland Zeeburg                    378\n",
      "Slotervaart                                349\n",
      "Buitenveldert / Zuidas                     250\n",
      "Noord West                                 241\n",
      "Noord Oost                                 221\n",
      "Geuzenveld / Slotermeer                    195\n",
      "Osdorp                                     163\n",
      "De Aker / Nieuw Sloten                     114\n",
      "Bijlmer Centrum                             99\n",
      "Bijlmer Oost                                97\n",
      "Gaasperdam / Driemond                       42\n",
      "Westpoort                                   15\n",
      "Name: count, dtype: int64\n",
      "\n",
      "The NAME has : 18137 unique values\n",
      "name\n",
      "Amsterdam                                           36\n",
      "Lovely apartment near Vondelpark                    10\n",
      "Cosy apartment in Amsterdam                          8\n",
      "Magnificent panoramic city view                      8\n",
      "Spacious family house with garden                    8\n",
      "                                                    ..\n",
      "Light Apartment, Centrally Located!                  1\n",
      "Sunny loft with extra bedroom                        1\n",
      "Central luxurious spacious comfortable apartment     1\n",
      "Your private place within the canal belt             1\n",
      "I have a room available for rent                     1\n",
      "Name: count, Length: 18137, dtype: int64\n",
      "\n",
      "The LOCATION has : 18723 unique values\n",
      "location\n",
      "0101000020E610000033FAD170CA8C13403BC5AA41982D4A40    1\n",
      "0101000020E6100000C30DF8FC30821340342BDB87BC314A40    1\n",
      "0101000020E61000007B849A2155B41340D6C9198A3B2E4A40    1\n",
      "0101000020E610000056D3F544D7851340C79E3D97A9314A40    1\n",
      "0101000020E61000002CB7B41A12A71340C5E40D30F32D4A40    1\n",
      "                                                     ..\n",
      "0101000020E61000005A65A6B4FEA613405CCAF962EF2B4A40    1\n",
      "0101000020E6100000DF8AC404359C13405F28603B182D4A40    1\n",
      "0101000020E6100000CD5CE0F25893134020F12BD6702D4A40    1\n",
      "0101000020E6100000AB5D13D21A93134048FAB48AFE2C4A40    1\n",
      "0101000020E6100000CD565EF23F9913405F7AFB73D1304A40    1\n",
      "Name: count, Length: 18723, dtype: int64\n",
      "\n"
     ]
    }
   ],
   "source": [
    "for column in df1.columns:\n",
    "    if df1[column].dtype == 'object':\n",
    "        print(f\"The {column.upper()} has : {df1[column].nunique()} unique values\")\n",
    "        print(df1[column].value_counts())\n",
    "        print()"
   ]
  },
  {
   "cell_type": "code",
   "execution_count": 34,
   "metadata": {},
   "outputs": [
    {
     "name": "stdout",
     "output_type": "stream",
     "text": [
      "The ROOM_ID has : 18723 unique values\n",
      "room_id\n",
      "10176931    1\n",
      "7050078     1\n",
      "16448872    1\n",
      "11316029    1\n",
      "13561991    1\n",
      "           ..\n",
      "2012781     1\n",
      "7430003     1\n",
      "5879421     1\n",
      "16103763    1\n",
      "7605782     1\n",
      "Name: count, Length: 18723, dtype: int64\n",
      "\n",
      "The SURVEY_ID has : 1 unique values\n",
      "survey_id\n",
      "1476    18723\n",
      "Name: count, dtype: int64\n",
      "\n",
      "The HOST_ID has : 15943 unique values\n",
      "host_id\n",
      "48703385     93\n",
      "113977564    88\n",
      "1464510      71\n",
      "107745142    64\n",
      "84453740     61\n",
      "             ..\n",
      "41902443      1\n",
      "8305721       1\n",
      "9901234       1\n",
      "23343555      1\n",
      "29724632      1\n",
      "Name: count, Length: 15943, dtype: int64\n",
      "\n",
      "The REVIEWS has : 284 unique values\n",
      "reviews\n",
      "0      2984\n",
      "1      1510\n",
      "2      1246\n",
      "3      1103\n",
      "4       925\n",
      "       ... \n",
      "242       1\n",
      "191       1\n",
      "334       1\n",
      "309       1\n",
      "188       1\n",
      "Name: count, Length: 284, dtype: int64\n",
      "\n",
      "The OVERALL_SATISFACTION has : 9 unique values\n",
      "overall_satisfaction\n",
      "5.0    7708\n",
      "0.0    5748\n",
      "4.5    4559\n",
      "4.0     577\n",
      "3.5     109\n",
      "3.0      19\n",
      "1.5       1\n",
      "2.5       1\n",
      "1.0       1\n",
      "Name: count, dtype: int64\n",
      "\n",
      "The ACCOMMODATES has : 16 unique values\n",
      "accommodates\n",
      "2     10024\n",
      "4      5579\n",
      "3      1585\n",
      "6       476\n",
      "5       471\n",
      "1       367\n",
      "8       105\n",
      "7        52\n",
      "16       20\n",
      "10       16\n",
      "12       10\n",
      "9         8\n",
      "14        6\n",
      "11        2\n",
      "13        1\n",
      "17        1\n",
      "Name: count, dtype: int64\n",
      "\n",
      "The BEDROOMS has : 11 unique values\n",
      "bedrooms\n",
      "1     11101\n",
      "2      4456\n",
      "3      1444\n",
      "0      1154\n",
      "4       473\n",
      "5        62\n",
      "6        19\n",
      "10        5\n",
      "7         4\n",
      "8         3\n",
      "9         2\n",
      "Name: count, dtype: int64\n",
      "\n",
      "The PRICE has : 423 unique values\n",
      "price\n",
      "119    1023\n",
      "180    1001\n",
      "144     887\n",
      "150     621\n",
      "132     588\n",
      "       ... \n",
      "585       1\n",
      "435       1\n",
      "339       1\n",
      "337       1\n",
      "28        1\n",
      "Name: count, Length: 423, dtype: int64\n",
      "\n",
      "The LAST_MODIFIED has : 18723 unique values\n",
      "last_modified\n",
      "2017-07-23 13:06:27.392    1\n",
      "2017-07-22 17:50:54.562    1\n",
      "2017-07-22 17:50:37.800    1\n",
      "2017-07-22 17:50:37.804    1\n",
      "2017-07-22 17:50:37.808    1\n",
      "                          ..\n",
      "2017-07-22 22:38:38.462    1\n",
      "2017-07-22 22:38:38.480    1\n",
      "2017-07-22 22:38:42.933    1\n",
      "2017-07-22 22:38:45.218    1\n",
      "2017-07-22 16:05:12.257    1\n",
      "Name: count, Length: 18723, dtype: int64\n",
      "\n",
      "The LATITUDE has : 15595 unique values\n",
      "latitude\n",
      "52.354646    5\n",
      "52.360546    5\n",
      "52.361364    5\n",
      "52.366852    5\n",
      "52.355191    4\n",
      "            ..\n",
      "52.357739    1\n",
      "52.356921    1\n",
      "52.351624    1\n",
      "52.354408    1\n",
      "52.381392    1\n",
      "Name: count, Length: 15595, dtype: int64\n",
      "\n",
      "The LONGITUDE has : 17157 unique values\n",
      "longitude\n",
      "4.907187    5\n",
      "4.888738    4\n",
      "4.904646    4\n",
      "4.856525    4\n",
      "4.893506    4\n",
      "           ..\n",
      "4.887158    1\n",
      "4.888768    1\n",
      "4.898284    1\n",
      "4.894801    1\n",
      "4.838403    1\n",
      "Name: count, Length: 17157, dtype: int64\n",
      "\n"
     ]
    }
   ],
   "source": [
    "for column in df1.columns:\n",
    "    if df1[column].dtype != 'object':\n",
    "        print(f\"The {column.upper()} has : {df1[column].nunique()} unique values\")\n",
    "        print(df1[column].value_counts())\n",
    "        print()"
   ]
  },
  {
   "cell_type": "markdown",
   "metadata": {},
   "source": [
    "## Only one Unique Value Drop it"
   ]
  },
  {
   "cell_type": "code",
   "execution_count": 36,
   "metadata": {},
   "outputs": [],
   "source": [
    "df1.drop(['city','survey_id'],axis=1,inplace=True)"
   ]
  },
  {
   "cell_type": "code",
   "execution_count": 45,
   "metadata": {},
   "outputs": [
    {
     "data": {
      "text/plain": [
       "room_id                                                           3908795\n",
       "host_id                                                          20246324\n",
       "room_type                                                 Entire home/apt\n",
       "neighborhood                                    Noord-West / Noord-Midden\n",
       "reviews                                                                11\n",
       "overall_satisfaction                                                  5.0\n",
       "accommodates                                                            6\n",
       "bedrooms                                                                4\n",
       "price                                                                 594\n",
       "name                                  Gorgeous House near Vondelpark area\n",
       "last_modified                                  2017-07-23 11:36:50.398000\n",
       "latitude                                                        52.354616\n",
       "longitude                                                        4.852802\n",
       "location                0101000020E610000083DA6FED44691340B5519D0E642D...\n",
       "Name: 52, dtype: object"
      ]
     },
     "execution_count": 45,
     "metadata": {},
     "output_type": "execute_result"
    }
   ],
   "source": [
    "df1.loc[df1['name'].isnull().sum()]"
   ]
  },
  {
   "cell_type": "code",
   "execution_count": 47,
   "metadata": {},
   "outputs": [],
   "source": [
    "df1.dropna(axis=0,inplace=True)"
   ]
  },
  {
   "cell_type": "code",
   "execution_count": 48,
   "metadata": {},
   "outputs": [
    {
     "data": {
      "text/plain": [
       "room_id                 0\n",
       "host_id                 0\n",
       "room_type               0\n",
       "neighborhood            0\n",
       "reviews                 0\n",
       "overall_satisfaction    0\n",
       "accommodates            0\n",
       "bedrooms                0\n",
       "price                   0\n",
       "name                    0\n",
       "last_modified           0\n",
       "latitude                0\n",
       "longitude               0\n",
       "location                0\n",
       "dtype: int64"
      ]
     },
     "execution_count": 48,
     "metadata": {},
     "output_type": "execute_result"
    }
   ],
   "source": [
    "df1.isnull().sum()"
   ]
  },
  {
   "cell_type": "code",
   "execution_count": 50,
   "metadata": {},
   "outputs": [
    {
     "data": {
      "text/plain": [
       "city\n",
       "Amsterdam    18723\n",
       "Name: count, dtype: int64"
      ]
     },
     "execution_count": 50,
     "metadata": {},
     "output_type": "execute_result"
    }
   ],
   "source": [
    "df2['city'].value_counts()"
   ]
  },
  {
   "cell_type": "code",
   "execution_count": 51,
   "metadata": {},
   "outputs": [
    {
     "data": {
      "text/plain": [
       "survey_id\n",
       "1476    18723\n",
       "Name: count, dtype: int64"
      ]
     },
     "execution_count": 51,
     "metadata": {},
     "output_type": "execute_result"
    }
   ],
   "source": [
    "df2['survey_id'].value_counts()"
   ]
  },
  {
   "cell_type": "code",
   "execution_count": 52,
   "metadata": {},
   "outputs": [],
   "source": [
    "df2.drop(['city','survey_id'],axis=1,inplace=True)"
   ]
  },
  {
   "cell_type": "code",
   "execution_count": 53,
   "metadata": {},
   "outputs": [],
   "source": [
    "df2.dropna(axis=0,inplace=True)"
   ]
  },
  {
   "cell_type": "code",
   "execution_count": 54,
   "metadata": {},
   "outputs": [
    {
     "data": {
      "text/plain": [
       "room_id                 0\n",
       "host_id                 0\n",
       "room_type               0\n",
       "neighborhood            0\n",
       "reviews                 0\n",
       "overall_satisfaction    0\n",
       "accommodates            0\n",
       "bedrooms                0\n",
       "price                   0\n",
       "name                    0\n",
       "last_modified           0\n",
       "latitude                0\n",
       "longitude               0\n",
       "location                0\n",
       "dtype: int64"
      ]
     },
     "execution_count": 54,
     "metadata": {},
     "output_type": "execute_result"
    }
   ],
   "source": [
    "df2.isnull().sum()"
   ]
  },
  {
   "cell_type": "code",
   "execution_count": 55,
   "metadata": {},
   "outputs": [
    {
     "data": {
      "text/plain": [
       "(city\n",
       " Amsterdam    18723\n",
       " Name: count, dtype: int64,\n",
       " survey_id\n",
       " 1476    18723\n",
       " Name: count, dtype: int64)"
      ]
     },
     "execution_count": 55,
     "metadata": {},
     "output_type": "execute_result"
    }
   ],
   "source": [
    "df3['city'].value_counts(),df3['survey_id'].value_counts()"
   ]
  },
  {
   "cell_type": "code",
   "execution_count": 56,
   "metadata": {},
   "outputs": [
    {
     "data": {
      "text/plain": [
       "room_id                 0\n",
       "host_id                 0\n",
       "room_type               0\n",
       "neighborhood            0\n",
       "reviews                 0\n",
       "overall_satisfaction    0\n",
       "accommodates            0\n",
       "bedrooms                0\n",
       "price                   0\n",
       "name                    0\n",
       "last_modified           0\n",
       "latitude                0\n",
       "longitude               0\n",
       "location                0\n",
       "dtype: int64"
      ]
     },
     "execution_count": 56,
     "metadata": {},
     "output_type": "execute_result"
    }
   ],
   "source": [
    "df3.drop(['city','survey_id'],axis=1,inplace=True)\n",
    "df3.dropna(axis=0,inplace=True)\n",
    "df3.isnull().sum()"
   ]
  },
  {
   "cell_type": "code",
   "execution_count": 57,
   "metadata": {},
   "outputs": [
    {
     "data": {
      "text/plain": [
       "(city\n",
       " Amsterdam    18723\n",
       " Name: count, dtype: int64,\n",
       " survey_id\n",
       " 1476    18723\n",
       " Name: count, dtype: int64)"
      ]
     },
     "execution_count": 57,
     "metadata": {},
     "output_type": "execute_result"
    }
   ],
   "source": [
    "df4['city'].value_counts(),df4['survey_id'].value_counts()"
   ]
  },
  {
   "cell_type": "code",
   "execution_count": 58,
   "metadata": {},
   "outputs": [
    {
     "data": {
      "text/plain": [
       "room_id                 0\n",
       "host_id                 0\n",
       "room_type               0\n",
       "neighborhood            0\n",
       "reviews                 0\n",
       "overall_satisfaction    0\n",
       "accommodates            0\n",
       "bedrooms                0\n",
       "price                   0\n",
       "name                    0\n",
       "last_modified           0\n",
       "latitude                0\n",
       "longitude               0\n",
       "location                0\n",
       "dtype: int64"
      ]
     },
     "execution_count": 58,
     "metadata": {},
     "output_type": "execute_result"
    }
   ],
   "source": [
    "df4.drop(['city','survey_id'],axis=1,inplace=True)\n",
    "df4.dropna(axis=0,inplace=True)\n",
    "df4.isnull().sum()"
   ]
  },
  {
   "cell_type": "code",
   "execution_count": 62,
   "metadata": {},
   "outputs": [
    {
     "data": {
      "text/plain": [
       "((18671, 14), (18671, 14), (18671, 14), (18671, 14))"
      ]
     },
     "execution_count": 62,
     "metadata": {},
     "output_type": "execute_result"
    }
   ],
   "source": [
    "df1.shape,df2.shape,df3.shape,df4.shape"
   ]
  },
  {
   "cell_type": "code",
   "execution_count": 63,
   "metadata": {},
   "outputs": [
    {
     "data": {
      "text/plain": [
       "74684"
      ]
     },
     "execution_count": 63,
     "metadata": {},
     "output_type": "execute_result"
    }
   ],
   "source": [
    "18671*4"
   ]
  },
  {
   "cell_type": "code",
   "execution_count": 122,
   "metadata": {},
   "outputs": [],
   "source": [
    "frames = [df1, df2, df3,df4]\n",
    "\n",
    "df = pd.concat(frames)"
   ]
  },
  {
   "cell_type": "code",
   "execution_count": 115,
   "metadata": {},
   "outputs": [
    {
     "data": {
      "text/plain": [
       "(37342, 14)"
      ]
     },
     "execution_count": 115,
     "metadata": {},
     "output_type": "execute_result"
    }
   ],
   "source": [
    "frames = [df1, df2, df3,df4]\n",
    "\n",
    "data = pd.concat(frames,axis=0,join=\"inner\",keys=[\"A\", \"B\"])\n",
    "data.shape"
   ]
  },
  {
   "cell_type": "code",
   "execution_count": 116,
   "metadata": {},
   "outputs": [
    {
     "data": {
      "text/html": [
       "<div>\n",
       "<style scoped>\n",
       "    .dataframe tbody tr th:only-of-type {\n",
       "        vertical-align: middle;\n",
       "    }\n",
       "\n",
       "    .dataframe tbody tr th {\n",
       "        vertical-align: top;\n",
       "    }\n",
       "\n",
       "    .dataframe thead th {\n",
       "        text-align: right;\n",
       "    }\n",
       "</style>\n",
       "<table border=\"1\" class=\"dataframe\">\n",
       "  <thead>\n",
       "    <tr style=\"text-align: right;\">\n",
       "      <th></th>\n",
       "      <th>room_id</th>\n",
       "      <th>host_id</th>\n",
       "      <th>room_type</th>\n",
       "      <th>neighborhood</th>\n",
       "      <th>reviews</th>\n",
       "      <th>overall_satisfaction</th>\n",
       "      <th>accommodates</th>\n",
       "      <th>bedrooms</th>\n",
       "      <th>price</th>\n",
       "      <th>name</th>\n",
       "      <th>last_modified</th>\n",
       "      <th>latitude</th>\n",
       "      <th>longitude</th>\n",
       "      <th>location</th>\n",
       "    </tr>\n",
       "  </thead>\n",
       "  <tbody>\n",
       "    <tr>\n",
       "      <th>0</th>\n",
       "      <td>10176931</td>\n",
       "      <td>49180562</td>\n",
       "      <td>Shared room</td>\n",
       "      <td>De Pijp / Rivierenbuurt</td>\n",
       "      <td>7</td>\n",
       "      <td>4.5</td>\n",
       "      <td>2</td>\n",
       "      <td>1</td>\n",
       "      <td>156</td>\n",
       "      <td>Red Light/ Canal view apartment (Shared)</td>\n",
       "      <td>2017-07-23 13:06:27.392000</td>\n",
       "      <td>52.356209</td>\n",
       "      <td>4.887491</td>\n",
       "      <td>0101000020E610000033FAD170CA8C13403BC5AA41982D...</td>\n",
       "    </tr>\n",
       "    <tr>\n",
       "      <th>1</th>\n",
       "      <td>8935871</td>\n",
       "      <td>46718394</td>\n",
       "      <td>Shared room</td>\n",
       "      <td>Centrum West</td>\n",
       "      <td>45</td>\n",
       "      <td>4.5</td>\n",
       "      <td>4</td>\n",
       "      <td>1</td>\n",
       "      <td>126</td>\n",
       "      <td>Sunny and Cozy Living room in quite neighbours</td>\n",
       "      <td>2017-07-23 13:06:23.607000</td>\n",
       "      <td>52.378518</td>\n",
       "      <td>4.896120</td>\n",
       "      <td>0101000020E6100000842A357BA095134042791F477330...</td>\n",
       "    </tr>\n",
       "    <tr>\n",
       "      <th>2</th>\n",
       "      <td>14011697</td>\n",
       "      <td>10346595</td>\n",
       "      <td>Shared room</td>\n",
       "      <td>Watergraafsmeer</td>\n",
       "      <td>1</td>\n",
       "      <td>0.0</td>\n",
       "      <td>3</td>\n",
       "      <td>1</td>\n",
       "      <td>132</td>\n",
       "      <td>Amsterdam</td>\n",
       "      <td>2017-07-23 13:06:23.604000</td>\n",
       "      <td>52.338811</td>\n",
       "      <td>4.943592</td>\n",
       "      <td>0101000020E6100000A51133FB3CC613403543AA285E2B...</td>\n",
       "    </tr>\n",
       "    <tr>\n",
       "      <th>3</th>\n",
       "      <td>6137978</td>\n",
       "      <td>8685430</td>\n",
       "      <td>Shared room</td>\n",
       "      <td>Centrum West</td>\n",
       "      <td>7</td>\n",
       "      <td>5.0</td>\n",
       "      <td>4</td>\n",
       "      <td>1</td>\n",
       "      <td>121</td>\n",
       "      <td>Canal boat RIDE in Amsterdam</td>\n",
       "      <td>2017-07-23 13:06:22.690000</td>\n",
       "      <td>52.376319</td>\n",
       "      <td>4.890028</td>\n",
       "      <td>0101000020E6100000DF180280638F134085EE92382B30...</td>\n",
       "    </tr>\n",
       "    <tr>\n",
       "      <th>4</th>\n",
       "      <td>18630616</td>\n",
       "      <td>70191803</td>\n",
       "      <td>Shared room</td>\n",
       "      <td>De Baarsjes / Oud West</td>\n",
       "      <td>1</td>\n",
       "      <td>0.0</td>\n",
       "      <td>2</td>\n",
       "      <td>1</td>\n",
       "      <td>93</td>\n",
       "      <td>One room for rent in a three room appartment</td>\n",
       "      <td>2017-07-23 13:06:19.681000</td>\n",
       "      <td>52.370384</td>\n",
       "      <td>4.852873</td>\n",
       "      <td>0101000020E6100000CD902A8A57691340187B2FBE682F...</td>\n",
       "    </tr>\n",
       "  </tbody>\n",
       "</table>\n",
       "</div>"
      ],
      "text/plain": [
       "    room_id   host_id    room_type             neighborhood  reviews  \\\n",
       "0  10176931  49180562  Shared room  De Pijp / Rivierenbuurt        7   \n",
       "1   8935871  46718394  Shared room             Centrum West       45   \n",
       "2  14011697  10346595  Shared room          Watergraafsmeer        1   \n",
       "3   6137978   8685430  Shared room             Centrum West        7   \n",
       "4  18630616  70191803  Shared room   De Baarsjes / Oud West        1   \n",
       "\n",
       "   overall_satisfaction  accommodates  bedrooms  price  \\\n",
       "0                   4.5             2         1    156   \n",
       "1                   4.5             4         1    126   \n",
       "2                   0.0             3         1    132   \n",
       "3                   5.0             4         1    121   \n",
       "4                   0.0             2         1     93   \n",
       "\n",
       "                                             name               last_modified  \\\n",
       "0        Red Light/ Canal view apartment (Shared)  2017-07-23 13:06:27.392000   \n",
       "1  Sunny and Cozy Living room in quite neighbours  2017-07-23 13:06:23.607000   \n",
       "2                                       Amsterdam  2017-07-23 13:06:23.604000   \n",
       "3                    Canal boat RIDE in Amsterdam  2017-07-23 13:06:22.690000   \n",
       "4    One room for rent in a three room appartment  2017-07-23 13:06:19.681000   \n",
       "\n",
       "    latitude  longitude                                           location  \n",
       "0  52.356209   4.887491  0101000020E610000033FAD170CA8C13403BC5AA41982D...  \n",
       "1  52.378518   4.896120  0101000020E6100000842A357BA095134042791F477330...  \n",
       "2  52.338811   4.943592  0101000020E6100000A51133FB3CC613403543AA285E2B...  \n",
       "3  52.376319   4.890028  0101000020E6100000DF180280638F134085EE92382B30...  \n",
       "4  52.370384   4.852873  0101000020E6100000CD902A8A57691340187B2FBE682F...  "
      ]
     },
     "execution_count": 116,
     "metadata": {},
     "output_type": "execute_result"
    }
   ],
   "source": [
    "data.loc[\"A\"].head()"
   ]
  },
  {
   "cell_type": "code",
   "execution_count": 118,
   "metadata": {},
   "outputs": [
    {
     "data": {
      "text/html": [
       "<div>\n",
       "<style scoped>\n",
       "    .dataframe tbody tr th:only-of-type {\n",
       "        vertical-align: middle;\n",
       "    }\n",
       "\n",
       "    .dataframe tbody tr th {\n",
       "        vertical-align: top;\n",
       "    }\n",
       "\n",
       "    .dataframe thead th {\n",
       "        text-align: right;\n",
       "    }\n",
       "</style>\n",
       "<table border=\"1\" class=\"dataframe\">\n",
       "  <thead>\n",
       "    <tr style=\"text-align: right;\">\n",
       "      <th></th>\n",
       "      <th>room_id</th>\n",
       "      <th>host_id</th>\n",
       "      <th>room_type</th>\n",
       "      <th>neighborhood</th>\n",
       "      <th>reviews</th>\n",
       "      <th>overall_satisfaction</th>\n",
       "      <th>accommodates</th>\n",
       "      <th>bedrooms</th>\n",
       "      <th>price</th>\n",
       "      <th>name</th>\n",
       "      <th>last_modified</th>\n",
       "      <th>latitude</th>\n",
       "      <th>longitude</th>\n",
       "      <th>location</th>\n",
       "    </tr>\n",
       "  </thead>\n",
       "  <tbody>\n",
       "    <tr>\n",
       "      <th>0</th>\n",
       "      <td>10176931</td>\n",
       "      <td>49180562</td>\n",
       "      <td>Shared room</td>\n",
       "      <td>De Pijp / Rivierenbuurt</td>\n",
       "      <td>7</td>\n",
       "      <td>4.5</td>\n",
       "      <td>2</td>\n",
       "      <td>1</td>\n",
       "      <td>156</td>\n",
       "      <td>Red Light/ Canal view apartment (Shared)</td>\n",
       "      <td>2017-07-23 13:06:27.391699</td>\n",
       "      <td>52.356209</td>\n",
       "      <td>4.887491</td>\n",
       "      <td>0101000020E610000033FAD170CA8C13403BC5AA41982D...</td>\n",
       "    </tr>\n",
       "    <tr>\n",
       "      <th>1</th>\n",
       "      <td>8935871</td>\n",
       "      <td>46718394</td>\n",
       "      <td>Shared room</td>\n",
       "      <td>Centrum West</td>\n",
       "      <td>45</td>\n",
       "      <td>4.5</td>\n",
       "      <td>4</td>\n",
       "      <td>1</td>\n",
       "      <td>126</td>\n",
       "      <td>Sunny and Cozy Living room in quite neighbours</td>\n",
       "      <td>2017-07-23 13:06:23.607187</td>\n",
       "      <td>52.378518</td>\n",
       "      <td>4.896120</td>\n",
       "      <td>0101000020E6100000842A357BA095134042791F477330...</td>\n",
       "    </tr>\n",
       "    <tr>\n",
       "      <th>2</th>\n",
       "      <td>14011697</td>\n",
       "      <td>10346595</td>\n",
       "      <td>Shared room</td>\n",
       "      <td>Watergraafsmeer</td>\n",
       "      <td>1</td>\n",
       "      <td>0.0</td>\n",
       "      <td>3</td>\n",
       "      <td>1</td>\n",
       "      <td>132</td>\n",
       "      <td>Amsterdam</td>\n",
       "      <td>2017-07-23 13:06:23.603546</td>\n",
       "      <td>52.338811</td>\n",
       "      <td>4.943592</td>\n",
       "      <td>0101000020E6100000A51133FB3CC613403543AA285E2B...</td>\n",
       "    </tr>\n",
       "    <tr>\n",
       "      <th>3</th>\n",
       "      <td>6137978</td>\n",
       "      <td>8685430</td>\n",
       "      <td>Shared room</td>\n",
       "      <td>Centrum West</td>\n",
       "      <td>7</td>\n",
       "      <td>5.0</td>\n",
       "      <td>4</td>\n",
       "      <td>1</td>\n",
       "      <td>121</td>\n",
       "      <td>Canal boat RIDE in Amsterdam</td>\n",
       "      <td>2017-07-23 13:06:22.689787</td>\n",
       "      <td>52.376319</td>\n",
       "      <td>4.890028</td>\n",
       "      <td>0101000020E6100000DF180280638F134085EE92382B30...</td>\n",
       "    </tr>\n",
       "    <tr>\n",
       "      <th>4</th>\n",
       "      <td>18630616</td>\n",
       "      <td>70191803</td>\n",
       "      <td>Shared room</td>\n",
       "      <td>De Baarsjes / Oud West</td>\n",
       "      <td>1</td>\n",
       "      <td>0.0</td>\n",
       "      <td>2</td>\n",
       "      <td>1</td>\n",
       "      <td>93</td>\n",
       "      <td>One room for rent in a three room appartment</td>\n",
       "      <td>2017-07-23 13:06:19.681469</td>\n",
       "      <td>52.370384</td>\n",
       "      <td>4.852873</td>\n",
       "      <td>0101000020E6100000CD902A8A57691340187B2FBE682F...</td>\n",
       "    </tr>\n",
       "  </tbody>\n",
       "</table>\n",
       "</div>"
      ],
      "text/plain": [
       "    room_id   host_id    room_type             neighborhood  reviews  \\\n",
       "0  10176931  49180562  Shared room  De Pijp / Rivierenbuurt        7   \n",
       "1   8935871  46718394  Shared room             Centrum West       45   \n",
       "2  14011697  10346595  Shared room          Watergraafsmeer        1   \n",
       "3   6137978   8685430  Shared room             Centrum West        7   \n",
       "4  18630616  70191803  Shared room   De Baarsjes / Oud West        1   \n",
       "\n",
       "   overall_satisfaction  accommodates  bedrooms  price  \\\n",
       "0                   4.5             2         1    156   \n",
       "1                   4.5             4         1    126   \n",
       "2                   0.0             3         1    132   \n",
       "3                   5.0             4         1    121   \n",
       "4                   0.0             2         1     93   \n",
       "\n",
       "                                             name               last_modified  \\\n",
       "0        Red Light/ Canal view apartment (Shared)  2017-07-23 13:06:27.391699   \n",
       "1  Sunny and Cozy Living room in quite neighbours  2017-07-23 13:06:23.607187   \n",
       "2                                       Amsterdam  2017-07-23 13:06:23.603546   \n",
       "3                    Canal boat RIDE in Amsterdam  2017-07-23 13:06:22.689787   \n",
       "4    One room for rent in a three room appartment  2017-07-23 13:06:19.681469   \n",
       "\n",
       "    latitude  longitude                                           location  \n",
       "0  52.356209   4.887491  0101000020E610000033FAD170CA8C13403BC5AA41982D...  \n",
       "1  52.378518   4.896120  0101000020E6100000842A357BA095134042791F477330...  \n",
       "2  52.338811   4.943592  0101000020E6100000A51133FB3CC613403543AA285E2B...  \n",
       "3  52.376319   4.890028  0101000020E6100000DF180280638F134085EE92382B30...  \n",
       "4  52.370384   4.852873  0101000020E6100000CD902A8A57691340187B2FBE682F...  "
      ]
     },
     "execution_count": 118,
     "metadata": {},
     "output_type": "execute_result"
    }
   ],
   "source": [
    "data.loc[\"B\"].head()"
   ]
  },
  {
   "cell_type": "code",
   "execution_count": 96,
   "metadata": {},
   "outputs": [
    {
     "data": {
      "text/plain": [
       "37342"
      ]
     },
     "execution_count": 96,
     "metadata": {},
     "output_type": "execute_result"
    }
   ],
   "source": [
    "18671*2"
   ]
  },
  {
   "cell_type": "code",
   "execution_count": 119,
   "metadata": {},
   "outputs": [
    {
     "data": {
      "text/plain": [
       "(0, None)"
      ]
     },
     "execution_count": 119,
     "metadata": {},
     "output_type": "execute_result"
    }
   ],
   "source": [
    "data.duplicated().sum(),data.drop_duplicates(inplace=True)"
   ]
  },
  {
   "cell_type": "code",
   "execution_count": 120,
   "metadata": {},
   "outputs": [
    {
     "data": {
      "text/plain": [
       "0"
      ]
     },
     "execution_count": 120,
     "metadata": {},
     "output_type": "execute_result"
    }
   ],
   "source": [
    "data.duplicated().sum()"
   ]
  },
  {
   "cell_type": "code",
   "execution_count": 121,
   "metadata": {},
   "outputs": [
    {
     "data": {
      "text/plain": [
       "(37342, 14)"
      ]
     },
     "execution_count": 121,
     "metadata": {},
     "output_type": "execute_result"
    }
   ],
   "source": [
    "data.shape"
   ]
  },
  {
   "cell_type": "code",
   "execution_count": 123,
   "metadata": {},
   "outputs": [
    {
     "data": {
      "text/plain": [
       "(74684, 14)"
      ]
     },
     "execution_count": 123,
     "metadata": {},
     "output_type": "execute_result"
    }
   ],
   "source": [
    "df.shape"
   ]
  },
  {
   "cell_type": "code",
   "execution_count": 124,
   "metadata": {},
   "outputs": [
    {
     "data": {
      "text/plain": [
       "37342"
      ]
     },
     "execution_count": 124,
     "metadata": {},
     "output_type": "execute_result"
    }
   ],
   "source": [
    "df.duplicated().sum()"
   ]
  },
  {
   "cell_type": "code",
   "execution_count": 125,
   "metadata": {},
   "outputs": [],
   "source": [
    "df.drop_duplicates(inplace=True)"
   ]
  },
  {
   "cell_type": "code",
   "execution_count": 126,
   "metadata": {},
   "outputs": [
    {
     "data": {
      "text/plain": [
       "0"
      ]
     },
     "execution_count": 126,
     "metadata": {},
     "output_type": "execute_result"
    }
   ],
   "source": [
    "df.duplicated().sum()"
   ]
  },
  {
   "cell_type": "code",
   "execution_count": 127,
   "metadata": {},
   "outputs": [
    {
     "data": {
      "text/plain": [
       "(37342, 14)"
      ]
     },
     "execution_count": 127,
     "metadata": {},
     "output_type": "execute_result"
    }
   ],
   "source": [
    "df.shape"
   ]
  },
  {
   "cell_type": "code",
   "execution_count": 129,
   "metadata": {},
   "outputs": [
    {
     "name": "stdout",
     "output_type": "stream",
     "text": [
      "The ROOM_TYPE has : 3 unique values\n",
      "room_type\n",
      "Entire home/apt    14937\n",
      "Private room        3671\n",
      "Shared room           63\n",
      "Name: count, dtype: int64\n",
      "\n",
      "The NEIGHBORHOOD has : 23 unique values\n",
      "neighborhood\n",
      "De Baarsjes / Oud West                    3276\n",
      "De Pijp / Rivierenbuurt                   2371\n",
      "Centrum West                              2216\n",
      "Centrum Oost                              1727\n",
      "Westerpark                                1428\n",
      "Noord-West / Noord-Midden                 1415\n",
      "Oud Oost                                  1166\n",
      "Bos en Lommer                              983\n",
      "Oostelijk Havengebied / Indische Buurt     920\n",
      "Watergraafsmeer                            514\n",
      "Oud Noord                                  494\n",
      "Ijburg / Eiland Zeeburg                    377\n",
      "Slotervaart                                348\n",
      "Buitenveldert / Zuidas                     250\n",
      "Noord West                                 240\n",
      "Noord Oost                                 221\n",
      "Geuzenveld / Slotermeer                    195\n",
      "Osdorp                                     163\n",
      "De Aker / Nieuw Sloten                     114\n",
      "Bijlmer Centrum                             99\n",
      "Bijlmer Oost                                97\n",
      "Gaasperdam / Driemond                       42\n",
      "Westpoort                                   15\n",
      "Name: count, dtype: int64\n",
      "\n",
      "The NAME has : 18137 unique values\n",
      "name\n",
      "Amsterdam                                           36\n",
      "Lovely apartment near Vondelpark                    10\n",
      "Cosy apartment in Amsterdam                          8\n",
      "Magnificent panoramic city view                      8\n",
      "Spacious family house with garden                    8\n",
      "                                                    ..\n",
      "Light Apartment, Centrally Located!                  1\n",
      "Sunny loft with extra bedroom                        1\n",
      "Central luxurious spacious comfortable apartment     1\n",
      "Your private place within the canal belt             1\n",
      "I have a room available for rent                     1\n",
      "Name: count, Length: 18137, dtype: int64\n",
      "\n",
      "The LOCATION has : 18671 unique values\n",
      "location\n",
      "0101000020E610000033FAD170CA8C13403BC5AA41982D4A40    1\n",
      "0101000020E6100000628731E9EF851340F1F5B52E35304A40    1\n",
      "0101000020E6100000CC24EA059F861340211D1EC2F8314A40    1\n",
      "0101000020E610000068791EDC9DC513403ECE3461FB2D4A40    1\n",
      "0101000020E6100000B9FC87F4DBD713406ADE718A8E304A40    1\n",
      "                                                     ..\n",
      "0101000020E6100000AB5D13D21A93134048FAB48AFE2C4A40    1\n",
      "0101000020E6100000C5CBD3B9A29413406458C51B992D4A40    1\n",
      "0101000020E61000008F19A88C7F8F13401FF296AB1F2D4A40    1\n",
      "0101000020E610000093E2E313B29313402992AF04522E4A40    1\n",
      "0101000020E6100000CD565EF23F9913405F7AFB73D1304A40    1\n",
      "Name: count, Length: 18671, dtype: int64\n",
      "\n"
     ]
    }
   ],
   "source": [
    "for column in df1.columns:\n",
    "    if df1[column].dtype == 'object':\n",
    "        print(f\"The {column.upper()} has : {df1[column].nunique()} unique values\")\n",
    "        print(df1[column].value_counts())\n",
    "        print()"
   ]
  },
  {
   "cell_type": "code",
   "execution_count": 130,
   "metadata": {},
   "outputs": [
    {
     "data": {
      "text/plain": [
       "29874"
      ]
     },
     "execution_count": 130,
     "metadata": {},
     "output_type": "execute_result"
    }
   ],
   "source": [
    "14937*2"
   ]
  },
  {
   "cell_type": "code",
   "execution_count": 128,
   "metadata": {},
   "outputs": [
    {
     "name": "stdout",
     "output_type": "stream",
     "text": [
      "The ROOM_TYPE has : 3 unique values\n",
      "room_type\n",
      "Entire home/apt    29874\n",
      "Private room        7342\n",
      "Shared room          126\n",
      "Name: count, dtype: int64\n",
      "\n",
      "The NEIGHBORHOOD has : 23 unique values\n",
      "neighborhood\n",
      "De Baarsjes / Oud West                    6552\n",
      "De Pijp / Rivierenbuurt                   4742\n",
      "Centrum West                              4432\n",
      "Centrum Oost                              3454\n",
      "Westerpark                                2856\n",
      "Noord-West / Noord-Midden                 2830\n",
      "Oud Oost                                  2332\n",
      "Bos en Lommer                             1966\n",
      "Oostelijk Havengebied / Indische Buurt    1840\n",
      "Watergraafsmeer                           1028\n",
      "Oud Noord                                  988\n",
      "Ijburg / Eiland Zeeburg                    754\n",
      "Slotervaart                                696\n",
      "Buitenveldert / Zuidas                     500\n",
      "Noord West                                 480\n",
      "Noord Oost                                 442\n",
      "Geuzenveld / Slotermeer                    390\n",
      "Osdorp                                     326\n",
      "De Aker / Nieuw Sloten                     228\n",
      "Bijlmer Centrum                            198\n",
      "Bijlmer Oost                               194\n",
      "Gaasperdam / Driemond                       84\n",
      "Westpoort                                   30\n",
      "Name: count, dtype: int64\n",
      "\n",
      "The NAME has : 18364 unique values\n",
      "name\n",
      "Amsterdam                             72\n",
      "Lovely apartment near Vondelpark      20\n",
      "Beautiful apartment in Amsterdam      16\n",
      "Magnificent panoramic city view       16\n",
      "Spacious family house with garden     16\n",
      "                                      ..\n",
      "Westerpark View modern apartment       1\n",
      "charming familly house in historic     1\n",
      "Cosy apartment near the Amstel         1\n",
      "Charming apartment at river IJ         1\n",
      "Comfortable sky room 12th floor        1\n",
      "Name: count, Length: 18364, dtype: int64\n",
      "\n",
      "The LAST_MODIFIED has : 37342 unique values\n",
      "last_modified\n",
      "2017-07-23 13:06:27.392000    1\n",
      "2017-07-22 22:38:56.181713    1\n",
      "2017-07-22 22:38:47.802047    1\n",
      "2017-07-22 22:38:47.796434    1\n",
      "2017-07-22 22:38:45.221905    1\n",
      "                             ..\n",
      "2017-07-22 17:50:45.783000    1\n",
      "2017-07-22 17:50:45.777000    1\n",
      "2017-07-22 17:50:44.108000    1\n",
      "2017-07-22 17:50:41.405000    1\n",
      "2017-07-22 16:05:12.257054    1\n",
      "Name: count, Length: 37342, dtype: int64\n",
      "\n",
      "The LOCATION has : 18671 unique values\n",
      "location\n",
      "0101000020E610000033FAD170CA8C13403BC5AA41982D4A40    2\n",
      "0101000020E6100000628731E9EF851340F1F5B52E35304A40    2\n",
      "0101000020E6100000CC24EA059F861340211D1EC2F8314A40    2\n",
      "0101000020E610000068791EDC9DC513403ECE3461FB2D4A40    2\n",
      "0101000020E6100000B9FC87F4DBD713406ADE718A8E304A40    2\n",
      "                                                     ..\n",
      "0101000020E6100000AB5D13D21A93134048FAB48AFE2C4A40    2\n",
      "0101000020E6100000C5CBD3B9A29413406458C51B992D4A40    2\n",
      "0101000020E61000008F19A88C7F8F13401FF296AB1F2D4A40    2\n",
      "0101000020E610000093E2E313B29313402992AF04522E4A40    2\n",
      "0101000020E6100000CD565EF23F9913405F7AFB73D1304A40    2\n",
      "Name: count, Length: 18671, dtype: int64\n",
      "\n"
     ]
    }
   ],
   "source": [
    "for column in df.columns:\n",
    "    if df[column].dtype == 'object':\n",
    "        print(f\"The {column.upper()} has : {df[column].nunique()} unique values\")\n",
    "        print(df[column].value_counts())\n",
    "        print()"
   ]
  },
  {
   "cell_type": "code",
   "execution_count": 76,
   "metadata": {},
   "outputs": [
    {
     "name": "stdout",
     "output_type": "stream",
     "text": [
      "The ROOM_ID has : 18671 unique values\n",
      "room_id\n",
      "10176931    2\n",
      "19360959    2\n",
      "3957325     2\n",
      "8590437     2\n",
      "2180810     2\n",
      "           ..\n",
      "16103763    2\n",
      "3140562     2\n",
      "19114900    2\n",
      "17631359    2\n",
      "7605782     2\n",
      "Name: count, Length: 18671, dtype: int64\n",
      "\n",
      "The HOST_ID has : 15897 unique values\n",
      "host_id\n",
      "48703385     186\n",
      "113977564    176\n",
      "1464510      142\n",
      "107745142    128\n",
      "84453740     122\n",
      "            ... \n",
      "132951614      2\n",
      "53282985       2\n",
      "12527757       2\n",
      "41902443       2\n",
      "29724632       2\n",
      "Name: count, Length: 15897, dtype: int64\n",
      "\n",
      "The REVIEWS has : 283 unique values\n",
      "reviews\n",
      "0      5946\n",
      "1      3008\n",
      "2      2480\n",
      "3      2198\n",
      "4      1848\n",
      "       ... \n",
      "191       2\n",
      "334       2\n",
      "309       2\n",
      "235       2\n",
      "188       2\n",
      "Name: count, Length: 283, dtype: int64\n",
      "\n",
      "The OVERALL_SATISFACTION has : 9 unique values\n",
      "overall_satisfaction\n",
      "5.0    15386\n",
      "0.0    11450\n",
      "4.5     9092\n",
      "4.0     1152\n",
      "3.5      218\n",
      "3.0       38\n",
      "1.5        2\n",
      "2.5        2\n",
      "1.0        2\n",
      "Name: count, dtype: int64\n",
      "\n",
      "The ACCOMMODATES has : 16 unique values\n",
      "accommodates\n",
      "2     19982\n",
      "4     11142\n",
      "3      3158\n",
      "6       946\n",
      "5       942\n",
      "1       730\n",
      "8       210\n",
      "7       104\n",
      "16       40\n",
      "10       32\n",
      "12       20\n",
      "9        16\n",
      "14       12\n",
      "11        4\n",
      "13        2\n",
      "17        2\n",
      "Name: count, dtype: int64\n",
      "\n",
      "The BEDROOMS has : 11 unique values\n",
      "bedrooms\n",
      "1.0     22136\n",
      "2.0      8892\n",
      "3.0      2884\n",
      "0.0      2296\n",
      "4.0       944\n",
      "5.0       124\n",
      "6.0        38\n",
      "10.0       10\n",
      "7.0         8\n",
      "8.0         6\n",
      "9.0         4\n",
      "Name: count, dtype: int64\n",
      "\n",
      "The PRICE has : 423 unique values\n",
      "price\n",
      "119.0    2032\n",
      "180.0    1996\n",
      "144.0    1768\n",
      "150.0    1238\n",
      "132.0    1176\n",
      "         ... \n",
      "435.0       2\n",
      "339.0       2\n",
      "337.0       2\n",
      "369.0       2\n",
      "28.0        2\n",
      "Name: count, Length: 423, dtype: int64\n",
      "\n",
      "The LATITUDE has : 15560 unique values\n",
      "latitude\n",
      "52.354646    10\n",
      "52.366852    10\n",
      "52.361364    10\n",
      "52.360857     8\n",
      "52.361641     8\n",
      "             ..\n",
      "52.360490     2\n",
      "52.359729     2\n",
      "52.358956     2\n",
      "52.359914     2\n",
      "52.381392     2\n",
      "Name: count, Length: 15560, dtype: int64\n",
      "\n",
      "The LONGITUDE has : 17112 unique values\n",
      "longitude\n",
      "4.907187    10\n",
      "4.875611     8\n",
      "4.891267     8\n",
      "4.893506     8\n",
      "4.904646     8\n",
      "            ..\n",
      "4.894847     2\n",
      "4.888123     2\n",
      "4.891153     2\n",
      "4.900519     2\n",
      "4.899658     2\n",
      "Name: count, Length: 17112, dtype: int64\n",
      "\n"
     ]
    }
   ],
   "source": [
    "for column in df.columns:\n",
    "    if df[column].dtype != 'object':\n",
    "        print(f\"The {column.upper()} has : {df[column].nunique()} unique values\")\n",
    "        print(df[column].value_counts())\n",
    "        print()"
   ]
  },
  {
   "cell_type": "code",
   "execution_count": 131,
   "metadata": {},
   "outputs": [],
   "source": [
    "df1.to_csv('Final AirBnb Prices.csv',index=False)"
   ]
  },
  {
   "cell_type": "code",
   "execution_count": null,
   "metadata": {},
   "outputs": [],
   "source": []
  }
 ],
 "metadata": {
  "kernelspec": {
   "display_name": "Python 3",
   "language": "python",
   "name": "python3"
  },
  "language_info": {
   "codemirror_mode": {
    "name": "ipython",
    "version": 3
   },
   "file_extension": ".py",
   "mimetype": "text/x-python",
   "name": "python",
   "nbconvert_exporter": "python",
   "pygments_lexer": "ipython3",
   "version": "3.11.6"
  }
 },
 "nbformat": 4,
 "nbformat_minor": 2
}
